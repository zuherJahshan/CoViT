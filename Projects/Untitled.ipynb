{
 "cells": [
  {
   "cell_type": "code",
   "execution_count": 2,
   "id": "6966512c",
   "metadata": {},
   "outputs": [],
   "source": [
    "import os"
   ]
  },
  {
   "cell_type": "code",
   "execution_count": 3,
   "id": "ab16308f",
   "metadata": {},
   "outputs": [
    {
     "name": "stdout",
     "output_type": "stream",
     "text": [
      "['A.1.tfrecord', 'AD.2.tfrecord', 'AY.1.tfrecord', 'AY.100.tfrecord', 'AY.102.tfrecord', 'AY.103.tfrecord', 'AY.106.tfrecord', 'AY.107.tfrecord', 'AY.110.tfrecord', 'AY.111.tfrecord']\n"
     ]
    }
   ],
   "source": [
    "lins = os.listdir(\"188Lins/Dataset/Train\")[:10]\n",
    "print(lins)"
   ]
  },
  {
   "cell_type": "code",
   "execution_count": 4,
   "id": "750bc63d",
   "metadata": {},
   "outputs": [],
   "source": [
    "for lin in lins:\n",
    "    #bash_cmd1 = \"ln 188Lins/Dataset/Train/{} 10Lins/Dataset/Train/{}\".format(lin, lin)\n",
    "    bash_cmd2 = \"ln 188Lins/Dataset/Valid/{} 10Lins/Dataset/Valid/{}\".format(lin, lin)\n",
    "    #os.system(bash_cmd1)\n",
    "    os.system(bash_cmd2)"
   ]
  },
  {
   "cell_type": "code",
   "execution_count": null,
   "id": "31bde67e",
   "metadata": {},
   "outputs": [],
   "source": []
  }
 ],
 "metadata": {
  "kernelspec": {
   "display_name": "Python 3 (ipykernel)",
   "language": "python",
   "name": "python3"
  },
  "language_info": {
   "codemirror_mode": {
    "name": "ipython",
    "version": 3
   },
   "file_extension": ".py",
   "mimetype": "text/x-python",
   "name": "python",
   "nbconvert_exporter": "python",
   "pygments_lexer": "ipython3",
   "version": "3.8.10"
  }
 },
 "nbformat": 4,
 "nbformat_minor": 5
}
