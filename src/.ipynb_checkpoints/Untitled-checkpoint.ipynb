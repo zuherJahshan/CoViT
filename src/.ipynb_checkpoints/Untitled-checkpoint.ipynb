{
 "cells": [
  {
   "cell_type": "code",
   "execution_count": 1,
   "id": "1038db40",
   "metadata": {},
   "outputs": [],
   "source": [
    "from DataCollector import DataCollectorv2\n",
    "from Dataset import DatasetHPs\n",
    "from NNModel import NNModelHPs\n",
    "from covit import CovitProject"
   ]
  },
  {
   "cell_type": "code",
   "execution_count": 2,
   "id": "7d64e82b",
   "metadata": {},
   "outputs": [
    {
     "name": "stdout",
     "output_type": "stream",
     "text": [
      "Building Data frame\n",
      "Done building Data frame\n",
      "Building remote dicts\n",
      "Done building remote dicts\n",
      "Building local dicts\n",
      "Done building local dicts\n"
     ]
    }
   ],
   "source": [
    "dc = DataCollectorv2()"
   ]
  },
  {
   "cell_type": "code",
   "execution_count": 3,
   "id": "130882ff",
   "metadata": {},
   "outputs": [],
   "source": [
    "covit375 = CovitProject(project_name=\"107Lins\",\n",
    "                        data_collector=dc)"
   ]
  },
  {
   "cell_type": "code",
   "execution_count": null,
   "id": "584b6c2e",
   "metadata": {},
   "outputs": [
    {
     "name": "stdout",
     "output_type": "stream",
     "text": [
      "A Neural Network model named nn1.3 already exists. loading it instead of creating\n"
     ]
    },
    {
     "name": "stderr",
     "output_type": "stream",
     "text": [
      "2022-07-13 12:35:24.534938: I tensorflow/core/platform/cpu_feature_guard.cc:193] This TensorFlow binary is optimized with oneAPI Deep Neural Network Library (oneDNN) to use the following CPU instructions in performance-critical operations:  AVX2 FMA\n",
      "To enable them in other operations, rebuild TensorFlow with the appropriate compiler flags.\n",
      "2022-07-13 12:35:24.869424: I tensorflow/core/common_runtime/gpu/gpu_device.cc:1532] Created device /job:localhost/replica:0/task:0/device:GPU:0 with 9980 MB memory:  -> device: 0, name: NVIDIA GeForce GTX 1080 Ti, pci bus id: 0000:01:00.0, compute capability: 6.1\n"
     ]
    }
   ],
   "source": [
    "nnmodel_hps = NNModelHPs(\n",
    "    encoder_repeats = 2,\n",
    "    classes = len(covit375.dataset.getLineages()),\n",
    "    d_model = covit375.dataset.hps.frag_len,\n",
    "    d_val = 96,\n",
    "    d_key = 96,\n",
    "    d_ff = 1536,\n",
    "    heads = 16,\n",
    "    dropout_rate = 0.1\n",
    ")\n",
    "\n",
    "covit375.addNNModel(name=\"nn1.3\",\n",
    "                    nnmodel_hps=nnmodel_hps)"
   ]
  },
  {
   "cell_type": "code",
   "execution_count": null,
   "id": "e5e02d9c",
   "metadata": {},
   "outputs": [],
   "source": [
    "covit375.train(name='nn1.3',\n",
    "               epochs=10,\n",
    "               batch_size=192)"
   ]
  },
  {
   "cell_type": "code",
   "execution_count": null,
   "id": "fdcfa4b7",
   "metadata": {},
   "outputs": [],
   "source": [
    "covit375.train(name='nn1',\n",
    "               epochs=10,\n",
    "               batch_size=192)\n",
    "#covit375.getResults(\"nn1\").getPerf()"
   ]
  },
  {
   "cell_type": "code",
   "execution_count": null,
   "id": "6bc87461",
   "metadata": {},
   "outputs": [],
   "source": [
    "covit375.addNNModel(name=\"nn1.3\",\n",
    "                    other=\"nn1\")\n",
    "covit375.deepenNN(\"nn1.3\")\n",
    "covit375.train(name='nn1.3',\n",
    "               epochs=22,\n",
    "               batch_size=128)"
   ]
  },
  {
   "cell_type": "code",
   "execution_count": null,
   "id": "5c0b4669",
   "metadata": {},
   "outputs": [],
   "source": [
    "covit375.addNNModel(name=\"nn1.4\",\n",
    "                    other=\"\")\n",
    "#covit375.deepenNN(\"nn1.4\", trainable=True)\n",
    "#covit375.deepenNN(\"nn1.4\", trainable=True)\n",
    "# covit375.train(name='nn1.4',\n",
    "#                epochs=1,\n",
    "#                batch_size=112)"
   ]
  },
  {
   "cell_type": "code",
   "execution_count": null,
   "id": "50a79fe8",
   "metadata": {},
   "outputs": [],
   "source": [
    "# covit375.addNNModel(name=\"nn1.3\",\n",
    "#                     other=\"nn1\")\n",
    "covit375.train(\"nn1.3\",\n",
    "               epochs=1,\n",
    "               batch_size=128)"
   ]
  }
 ],
 "metadata": {
  "kernelspec": {
   "display_name": "Python 3 (ipykernel)",
   "language": "python",
   "name": "python3"
  },
  "language_info": {
   "codemirror_mode": {
    "name": "ipython",
    "version": 3
   },
   "file_extension": ".py",
   "mimetype": "text/x-python",
   "name": "python",
   "nbconvert_exporter": "python",
   "pygments_lexer": "ipython3",
   "version": "3.8.10"
  }
 },
 "nbformat": 4,
 "nbformat_minor": 5
}
