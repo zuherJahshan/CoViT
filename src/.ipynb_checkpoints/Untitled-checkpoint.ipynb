{
 "cells": [
  {
   "cell_type": "code",
   "execution_count": 1,
   "id": "0371bb5e",
   "metadata": {},
   "outputs": [],
   "source": [
    "from DataCollector import DataCollectorv2\n",
    "from Dataset import DatasetHPs\n",
    "from NNModel import NNModelHPs\n",
    "from covit import CovitProject"
   ]
  },
  {
   "cell_type": "code",
   "execution_count": 2,
   "id": "c0706f59",
   "metadata": {},
   "outputs": [
    {
     "name": "stdout",
     "output_type": "stream",
     "text": [
      "Building Data frame\n",
      "Done building Data frame\n",
      "Building remote dicts\n",
      "Done building remote dicts\n",
      "Building local dicts\n",
      "Done building local dicts\n"
     ]
    }
   ],
   "source": [
    "dc = DataCollectorv2()"
   ]
  },
  {
   "cell_type": "code",
   "execution_count": 3,
   "id": "e2fc8444",
   "metadata": {},
   "outputs": [],
   "source": [
    "covit = CovitProject(project_name=\"107Lins\",\n",
    "                     data_collector=dc)"
   ]
  },
  {
   "cell_type": "code",
   "execution_count": 4,
   "id": "06d6babc",
   "metadata": {},
   "outputs": [],
   "source": [
    "dataset_hps = covit.dataset.hps\n",
    "path_to_fasta_dir = \"../accs\"\n",
    "num_parallel_calls = 2"
   ]
  },
  {
   "cell_type": "code",
   "execution_count": 5,
   "id": "0386c593",
   "metadata": {},
   "outputs": [
    {
     "name": "stderr",
     "output_type": "stream",
     "text": [
      "2022-08-08 15:37:05.651942: I tensorflow/core/platform/cpu_feature_guard.cc:193] This TensorFlow binary is optimized with oneAPI Deep Neural Network Library (oneDNN) to use the following CPU instructions in performance-critical operations:  AVX2 FMA\n",
      "To enable them in other operations, rebuild TensorFlow with the appropriate compiler flags.\n",
      "2022-08-08 15:37:06.047292: I tensorflow/core/common_runtime/gpu/gpu_device.cc:1532] Created device /job:localhost/replica:0/task:0/device:GPU:0 with 9203 MB memory:  -> device: 0, name: NVIDIA GeForce RTX 2080 Ti, pci bus id: 0000:01:00.0, compute capability: 7.5\n",
      "2022-08-08 15:37:16.455616: I tensorflow/stream_executor/cuda/cuda_dnn.cc:384] Loaded cuDNN version 8401\n"
     ]
    }
   ],
   "source": [
    "covit.loadNNModel(covit.listNNModels()[-1])"
   ]
  },
  {
   "cell_type": "code",
   "execution_count": 6,
   "id": "29475c27",
   "metadata": {},
   "outputs": [],
   "source": [
    "covit.predict(model_name=covit.listNNModels()[-1],\n",
    "              path_to_fasta_dir=path_to_fasta_dir)"
   ]
  },
  {
   "cell_type": "code",
   "execution_count": null,
   "id": "a22c63e2",
   "metadata": {},
   "outputs": [],
   "source": []
  }
 ],
 "metadata": {
  "kernelspec": {
   "display_name": "Python 3 (ipykernel)",
   "language": "python",
   "name": "python3"
  },
  "language_info": {
   "codemirror_mode": {
    "name": "ipython",
    "version": 3
   },
   "file_extension": ".py",
   "mimetype": "text/x-python",
   "name": "python",
   "nbconvert_exporter": "python",
   "pygments_lexer": "ipython3",
   "version": "3.8.10"
  }
 },
 "nbformat": 4,
 "nbformat_minor": 5
}
