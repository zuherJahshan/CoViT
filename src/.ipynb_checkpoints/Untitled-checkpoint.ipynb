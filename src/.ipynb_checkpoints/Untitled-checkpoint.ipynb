{
 "cells": [
  {
   "cell_type": "code",
   "execution_count": 1,
   "id": "1038db40",
   "metadata": {},
   "outputs": [],
   "source": [
    "from DataCollector import DataCollectorv2\n",
    "from Dataset import DatasetHPs\n",
    "from NNModel import NNModelHPs\n",
    "from covit import CovitProject"
   ]
  },
  {
   "cell_type": "code",
   "execution_count": 2,
   "id": "7d64e82b",
   "metadata": {},
   "outputs": [
    {
     "name": "stdout",
     "output_type": "stream",
     "text": [
      "Building Data frame\n",
      "Done building Data frame\n",
      "Building remote dicts\n",
      "Done building remote dicts\n",
      "Building local dicts\n",
      "Done building local dicts\n"
     ]
    }
   ],
   "source": [
    "dc = DataCollectorv2()"
   ]
  },
  {
   "cell_type": "code",
   "execution_count": 3,
   "id": "130882ff",
   "metadata": {},
   "outputs": [],
   "source": [
    "covit375 = CovitProject(project_name=\"107Lins\",\n",
    "                        data_collector=dc)"
   ]
  },
  {
   "cell_type": "code",
   "execution_count": null,
   "id": "584b6c2e",
   "metadata": {},
   "outputs": [],
   "source": [
    "nnmodel_hps = NNModelHPs(\n",
    "    encoder_repeats = 2,\n",
    "    classes = len(covit375.dataset.getLineages()),\n",
    "    d_model = covit375.dataset.hps.frag_len,\n",
    "    d_val = 96,\n",
    "    d_key = 96,\n",
    "    d_ff = 1536,\n",
    "    heads = 16,\n",
    "    dropout_rate = 0.1\n",
    ")\n",
    "\n",
    "covit375.addNNModel(name=\"nn1\")"
   ]
  },
  {
   "cell_type": "code",
   "execution_count": null,
   "id": "e5e02d9c",
   "metadata": {},
   "outputs": [],
   "source": [
    "covit375.deepenNN(\"nn2\")\n",
    "\n",
    "covit375.train(name='nn2',\n",
    "               epochs=2,\n",
    "               batch_size=192)"
   ]
  },
  {
   "cell_type": "code",
   "execution_count": null,
   "id": "74d23010",
   "metadata": {
    "scrolled": false
   },
   "outputs": [],
   "source": [
    "covit375.evaluate(name=\"nn1\",batch_size=192)"
   ]
  },
  {
   "cell_type": "code",
   "execution_count": null,
   "id": "fdcfa4b7",
   "metadata": {},
   "outputs": [],
   "source": [
    "covit375.getResults(\"nn1\").getPerf()"
   ]
  },
  {
   "cell_type": "code",
   "execution_count": null,
   "id": "4c5764b8",
   "metadata": {},
   "outputs": [],
   "source": [
    "covit375.deepenNN('nn3')\n",
    "covit375.deepenNN('nn3', trainable=True)\n",
    "covit375.train(name='nn3',\n",
    "               epochs=22,\n",
    "               batch_size=128)"
   ]
  },
  {
   "cell_type": "code",
   "execution_count": null,
   "id": "a7508ea0",
   "metadata": {},
   "outputs": [],
   "source": []
  }
 ],
 "metadata": {
  "kernelspec": {
   "display_name": "Python 3 (ipykernel)",
   "language": "python",
   "name": "python3"
  },
  "language_info": {
   "codemirror_mode": {
    "name": "ipython",
    "version": 3
   },
   "file_extension": ".py",
   "mimetype": "text/x-python",
   "name": "python",
   "nbconvert_exporter": "python",
   "pygments_lexer": "ipython3",
   "version": "3.8.10"
  }
 },
 "nbformat": 4,
 "nbformat_minor": 5
}
