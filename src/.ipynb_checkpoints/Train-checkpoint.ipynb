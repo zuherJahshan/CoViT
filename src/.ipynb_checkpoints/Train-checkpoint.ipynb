{
 "cells": [
  {
   "cell_type": "code",
   "execution_count": 1,
   "id": "1038db40",
   "metadata": {},
   "outputs": [],
   "source": [
    "from DataCollector import DataCollectorv2\n",
    "from Dataset import DatasetHPs\n",
    "from NNModel import NNModelHPs\n",
    "from covit import CovitProject"
   ]
  },
  {
   "cell_type": "code",
   "execution_count": 2,
   "id": "7d64e82b",
   "metadata": {
    "scrolled": true
   },
   "outputs": [
    {
     "name": "stdout",
     "output_type": "stream",
     "text": [
      "Building Data frame\n",
      "Done building Data frame\n",
      "Building remote dicts\n",
      "Done building remote dicts\n",
      "Building local dicts\n",
      "Done building local dicts\n"
     ]
    }
   ],
   "source": [
    "dc = DataCollectorv2()"
   ]
  },
  {
   "cell_type": "code",
   "execution_count": 3,
   "id": "130882ff",
   "metadata": {},
   "outputs": [],
   "source": [
    "covit = CovitProject(project_name=\"269Lins\",\n",
    "                     data_collector=dc)"
   ]
  },
  {
   "cell_type": "code",
   "execution_count": 4,
   "id": "584b6c2e",
   "metadata": {
    "scrolled": true
   },
   "outputs": [
    {
     "name": "stderr",
     "output_type": "stream",
     "text": [
      "2022-07-26 13:33:33.071901: I tensorflow/core/platform/cpu_feature_guard.cc:193] This TensorFlow binary is optimized with oneAPI Deep Neural Network Library (oneDNN) to use the following CPU instructions in performance-critical operations:  AVX2 FMA\n",
      "To enable them in other operations, rebuild TensorFlow with the appropriate compiler flags.\n",
      "2022-07-26 13:33:33.475979: I tensorflow/core/common_runtime/gpu/gpu_device.cc:1532] Created device /job:localhost/replica:0/task:0/device:GPU:0 with 9209 MB memory:  -> device: 0, name: NVIDIA GeForce RTX 2080 Ti, pci bus id: 0000:01:00.0, compute capability: 7.5\n",
      "2022-07-26 13:33:39.599674: I tensorflow/stream_executor/cuda/cuda_dnn.cc:384] Loaded cuDNN version 8401\n"
     ]
    }
   ],
   "source": [
    "old_model = \"nn1.5\"\n",
    "new_model = \"nn1.6\"\n",
    "\n",
    "nnmodel_hps = NNModelHPs(\n",
    "    encoder_repeats = 2,\n",
    "    classes = 269,\n",
    "    d_model = 256,\n",
    "    d_val = 96,\n",
    "    d_key = 96,\n",
    "    d_ff = 1536,\n",
    "    heads = 18,\n",
    "    dropout_rate = 0.4\n",
    ")\n",
    "\n",
    "covit.loadNNModel(old_model)\n",
    "\n",
    "covit.addNNModel(name=new_model,\n",
    "                 other=old_model)\n",
    "for _ in range(2):\n",
    "    covit.deepenNN(name=new_model,\n",
    "                   trainable=True)\n",
    "covit.makeTrainable(name=new_model)"
   ]
  },
  {
   "cell_type": "code",
   "execution_count": null,
   "id": "6bc87461",
   "metadata": {},
   "outputs": [],
   "source": [
    "# new_layers_num = \n",
    "# covit.addNNModel(name=new_model,\n",
    "#                  other=old_model)\n",
    "# for i in range(new_layers_num):\n",
    "#     covit.deepenNN(name=new_model)"
   ]
  },
  {
   "cell_type": "code",
   "execution_count": 10,
   "id": "50a79fe8",
   "metadata": {
    "scrolled": true
   },
   "outputs": [
    {
     "name": "stdout",
     "output_type": "stream",
     "text": [
      "Epoch 1/15\n",
      "3151/3151 [==============================] - ETA: 0s - loss: 1.1119 - top1_accuracy: 0.7051 - top2_accuracy: 0.8105 - top5_accuracy: 0.8983INFO:tensorflow:Assets written to: ../Projects/269Lins/NNModels/nn1.5/nn/assets\n"
     ]
    },
    {
     "name": "stderr",
     "output_type": "stream",
     "text": [
      "INFO:tensorflow:Assets written to: ../Projects/269Lins/NNModels/nn1.5/nn/assets\n"
     ]
    },
    {
     "name": "stdout",
     "output_type": "stream",
     "text": [
      "3151/3151 [==============================] - 1339s 402ms/step - loss: 1.1119 - top1_accuracy: 0.7051 - top2_accuracy: 0.8105 - top5_accuracy: 0.8983 - val_loss: 1.4928 - val_top1_accuracy: 0.6814 - val_top2_accuracy: 0.7968 - val_top5_accuracy: 0.8893\n",
      "Epoch 2/15\n",
      "3151/3151 [==============================] - ETA: 0s - loss: 0.8589 - top1_accuracy: 0.7478 - top2_accuracy: 0.8457 - top5_accuracy: 0.9280INFO:tensorflow:Assets written to: ../Projects/269Lins/NNModels/nn1.5/nn/assets\n"
     ]
    },
    {
     "name": "stderr",
     "output_type": "stream",
     "text": [
      "INFO:tensorflow:Assets written to: ../Projects/269Lins/NNModels/nn1.5/nn/assets\n"
     ]
    },
    {
     "name": "stdout",
     "output_type": "stream",
     "text": [
      "3151/3151 [==============================] - 1268s 403ms/step - loss: 0.8589 - top1_accuracy: 0.7478 - top2_accuracy: 0.8457 - top5_accuracy: 0.9280 - val_loss: 1.3314 - val_top1_accuracy: 0.7054 - val_top2_accuracy: 0.8074 - val_top5_accuracy: 0.8998\n",
      "Epoch 3/15\n",
      "3151/3151 [==============================] - ETA: 0s - loss: 0.8186 - top1_accuracy: 0.7552 - top2_accuracy: 0.8521 - top5_accuracy: 0.9324INFO:tensorflow:Assets written to: ../Projects/269Lins/NNModels/nn1.5/nn/assets\n"
     ]
    },
    {
     "name": "stderr",
     "output_type": "stream",
     "text": [
      "INFO:tensorflow:Assets written to: ../Projects/269Lins/NNModels/nn1.5/nn/assets\n"
     ]
    },
    {
     "name": "stdout",
     "output_type": "stream",
     "text": [
      "3151/3151 [==============================] - 1271s 404ms/step - loss: 0.8186 - top1_accuracy: 0.7552 - top2_accuracy: 0.8521 - top5_accuracy: 0.9324 - val_loss: 1.2957 - val_top1_accuracy: 0.7097 - val_top2_accuracy: 0.8198 - val_top5_accuracy: 0.9134\n",
      "Epoch 4/15\n",
      "3151/3151 [==============================] - ETA: 0s - loss: 0.7741 - top1_accuracy: 0.7682 - top2_accuracy: 0.8597 - top5_accuracy: 0.9369INFO:tensorflow:Assets written to: ../Projects/269Lins/NNModels/nn1.5/nn/assets\n"
     ]
    },
    {
     "name": "stderr",
     "output_type": "stream",
     "text": [
      "INFO:tensorflow:Assets written to: ../Projects/269Lins/NNModels/nn1.5/nn/assets\n"
     ]
    },
    {
     "name": "stdout",
     "output_type": "stream",
     "text": [
      "3151/3151 [==============================] - 1262s 401ms/step - loss: 0.7741 - top1_accuracy: 0.7682 - top2_accuracy: 0.8597 - top5_accuracy: 0.9369 - val_loss: 1.2231 - val_top1_accuracy: 0.7233 - val_top2_accuracy: 0.8253 - val_top5_accuracy: 0.9134\n",
      "Epoch 5/15\n",
      "3151/3151 [==============================] - ETA: 0s - loss: 0.7680 - top1_accuracy: 0.7687 - top2_accuracy: 0.8606 - top5_accuracy: 0.9380INFO:tensorflow:Assets written to: ../Projects/269Lins/NNModels/nn1.5/nn/assets\n"
     ]
    },
    {
     "name": "stderr",
     "output_type": "stream",
     "text": [
      "INFO:tensorflow:Assets written to: ../Projects/269Lins/NNModels/nn1.5/nn/assets\n"
     ]
    },
    {
     "name": "stdout",
     "output_type": "stream",
     "text": [
      "3151/3151 [==============================] - 1271s 403ms/step - loss: 0.7680 - top1_accuracy: 0.7687 - top2_accuracy: 0.8606 - top5_accuracy: 0.9380 - val_loss: 1.1652 - val_top1_accuracy: 0.7308 - val_top2_accuracy: 0.8341 - val_top5_accuracy: 0.9205\n",
      "Epoch 6/15\n",
      "3151/3151 [==============================] - 1248s 396ms/step - loss: 0.7635 - top1_accuracy: 0.7703 - top2_accuracy: 0.8611 - top5_accuracy: 0.9389 - val_loss: 1.2461 - val_top1_accuracy: 0.7194 - val_top2_accuracy: 0.8226 - val_top5_accuracy: 0.9079\n",
      "Epoch 7/15\n",
      "3151/3151 [==============================] - ETA: 0s - loss: 0.7549 - top1_accuracy: 0.7728 - top2_accuracy: 0.8636 - top5_accuracy: 0.9396INFO:tensorflow:Assets written to: ../Projects/269Lins/NNModels/nn1.5/nn/assets\n"
     ]
    },
    {
     "name": "stderr",
     "output_type": "stream",
     "text": [
      "INFO:tensorflow:Assets written to: ../Projects/269Lins/NNModels/nn1.5/nn/assets\n"
     ]
    },
    {
     "name": "stdout",
     "output_type": "stream",
     "text": [
      "3151/3151 [==============================] - 1266s 402ms/step - loss: 0.7549 - top1_accuracy: 0.7728 - top2_accuracy: 0.8636 - top5_accuracy: 0.9396 - val_loss: 1.1452 - val_top1_accuracy: 0.7354 - val_top2_accuracy: 0.8409 - val_top5_accuracy: 0.9214\n",
      "Epoch 8/15\n",
      "3151/3151 [==============================] - 1244s 395ms/step - loss: 0.7269 - top1_accuracy: 0.7803 - top2_accuracy: 0.8685 - top5_accuracy: 0.9429 - val_loss: 1.1729 - val_top1_accuracy: 0.7302 - val_top2_accuracy: 0.8310 - val_top5_accuracy: 0.9213\n",
      "Epoch 9/15\n",
      "3151/3151 [==============================] - 1251s 397ms/step - loss: 0.7423 - top1_accuracy: 0.7756 - top2_accuracy: 0.8651 - top5_accuracy: 0.9416 - val_loss: 1.2054 - val_top1_accuracy: 0.7213 - val_top2_accuracy: 0.8218 - val_top5_accuracy: 0.9134\n",
      "Epoch 10/15\n",
      "3151/3151 [==============================] - 1243s 394ms/step - loss: 0.7444 - top1_accuracy: 0.7752 - top2_accuracy: 0.8632 - top5_accuracy: 0.9391 - val_loss: 1.1601 - val_top1_accuracy: 0.7383 - val_top2_accuracy: 0.8343 - val_top5_accuracy: 0.9166\n",
      "Epoch 11/15\n",
      "3151/3151 [==============================] - 1242s 394ms/step - loss: 0.7340 - top1_accuracy: 0.7766 - top2_accuracy: 0.8648 - top5_accuracy: 0.9408 - val_loss: 1.2309 - val_top1_accuracy: 0.7248 - val_top2_accuracy: 0.8254 - val_top5_accuracy: 0.9125\n",
      "Epoch 12/15\n",
      "3151/3151 [==============================] - 1226s 389ms/step - loss: 0.7237 - top1_accuracy: 0.7822 - top2_accuracy: 0.8678 - top5_accuracy: 0.9410 - val_loss: 1.2506 - val_top1_accuracy: 0.7327 - val_top2_accuracy: 0.8183 - val_top5_accuracy: 0.9084\n",
      "Epoch 13/15\n",
      "3151/3151 [==============================] - 1228s 390ms/step - loss: 0.7169 - top1_accuracy: 0.7840 - top2_accuracy: 0.8701 - top5_accuracy: 0.9432 - val_loss: 1.1766 - val_top1_accuracy: 0.7358 - val_top2_accuracy: 0.8381 - val_top5_accuracy: 0.9174\n",
      "Epoch 14/15\n",
      "3151/3151 [==============================] - 1248s 396ms/step - loss: 0.7101 - top1_accuracy: 0.7862 - top2_accuracy: 0.8707 - top5_accuracy: 0.9439 - val_loss: 1.2336 - val_top1_accuracy: 0.7282 - val_top2_accuracy: 0.8203 - val_top5_accuracy: 0.9131\n",
      "Epoch 15/15\n",
      "3151/3151 [==============================] - 1246s 395ms/step - loss: 0.7377 - top1_accuracy: 0.7810 - top2_accuracy: 0.8649 - top5_accuracy: 0.9395 - val_loss: 1.1842 - val_top1_accuracy: 0.7313 - val_top2_accuracy: 0.8363 - val_top5_accuracy: 0.9194\n"
     ]
    }
   ],
   "source": [
    "covit.train(new_model,\n",
    "            epochs=15,\n",
    "            batch_size=256,\n",
    "            mini_batch_size=64)"
   ]
  },
  {
   "cell_type": "code",
   "execution_count": 11,
   "id": "876a3b8e",
   "metadata": {},
   "outputs": [
    {
     "name": "stdout",
     "output_type": "stream",
     "text": [
      "Model is nn1.5\n",
      "===> val top1 accuracy = 0.7354449033737183\n"
     ]
    }
   ],
   "source": [
    "models = [\n",
    "    new_model\n",
    "         ]\n",
    "\n",
    "for model in models:\n",
    "    covit.loadNNModel(model)\n",
    "    print(\"Model is {}\".format(model))\n",
    "    model_perf = covit.getResults(name=model).getPerf()\n",
    "    val_min_loss = min(model_perf[\"val_loss\"])\n",
    "    val_min_idx = model_perf[\"val_loss\"].index(val_min_loss)\n",
    "    val_top1_max_acc = model_perf[\"val_top1_accuracy\"][val_min_idx]\n",
    "    print(\"===> val top1 accuracy = {}\".format(val_top1_max_acc))\n",
    "\n",
    "perf = {}\n",
    "for model in models:\n",
    "    covit.loadNNModel(model)\n",
    "    model_perf = covit.getResults(name=model).getPerf()\n",
    "    for metric in model_perf:\n",
    "        if metric in perf:\n",
    "            perf[metric].extend(model_perf[metric])\n",
    "        else:\n",
    "            perf.update({metric: model_perf[metric]})\n"
   ]
  },
  {
   "cell_type": "code",
   "execution_count": 12,
   "id": "ebc8bb37",
   "metadata": {},
   "outputs": [
    {
     "name": "stdout",
     "output_type": "stream",
     "text": [
      "15\n",
      "valid top1 accuracy 0.7354449033737183\n",
      "valid top2 accuracy 0.840878963470459\n",
      "valid top5 accuracy 0.9213699102401733\n"
     ]
    },
    {
     "data": {
      "image/png": "[encoded data removed]",
      "text/plain": [
       "<Figure size 432x288 with 1 Axes>"
      ]
     },
     "metadata": {
      "needs_background": "light"
     },
     "output_type": "display_data"
    }
   ],
   "source": [
    "import matplotlib.pyplot as plt\n",
    "\n",
    "plt.plot(perf[\"val_top1_accuracy\"], label=\"valid top1 accuracy\")\n",
    "plt.plot(perf[\"top1_accuracy\"], label=\"train top1 accuracy\")\n",
    "plt.plot(perf[\"val_top2_accuracy\"], label=\"valid top2 accuracy\")\n",
    "plt.plot(perf[\"top2_accuracy\"], label=\"train top2 accuracy\")\n",
    "plt.plot(perf[\"val_top5_accuracy\"], label=\"valid top5 accuracy\")\n",
    "plt.plot(perf[\"top5_accuracy\"], label=\"train top5 accuracy\")\n",
    "\n",
    "#plt.legend()\n",
    "\n",
    "\n",
    "plt.xlabel(\"Epochs\")\n",
    "plt.ylabel(\"Accuracy\")\n",
    "plt.title(\"189Lins Accuracy vs. Epochs graph\")\n",
    "\n",
    "plt.savefig(\"acc.png\")\n",
    "\n",
    "val_min_loss = min(perf[\"val_loss\"])\n",
    "val_min_idx = perf[\"val_loss\"].index(val_min_loss)\n",
    "val_top1_max_acc = perf[\"val_top1_accuracy\"][val_min_idx]\n",
    "val_top2_max_acc = perf[\"val_top2_accuracy\"][val_min_idx]\n",
    "val_top5_max_acc = perf[\"val_top5_accuracy\"][val_min_idx]\n",
    "print(len(perf[\"val_top1_accuracy\"]))\n",
    "print(\"valid top1 accuracy {}\".format(val_top1_max_acc))\n",
    "print(\"valid top2 accuracy {}\".format(val_top2_max_acc))\n",
    "print(\"valid top5 accuracy {}\".format(val_top5_max_acc))\n",
    "\n"
   ]
  },
  {
   "cell_type": "code",
   "execution_count": 13,
   "id": "7dc9dd05",
   "metadata": {},
   "outputs": [
    {
     "data": {
      "image/png": "[encoded data removed]",
      "text/plain": [
       "<Figure size 432x288 with 1 Axes>"
      ]
     },
     "metadata": {
      "needs_background": "light"
     },
     "output_type": "display_data"
    }
   ],
   "source": [
    "plt.plot(perf[\"val_loss\"], label=\"valid loss\")\n",
    "plt.plot(perf[\"loss\"][1:], label=\"train loss\")\n",
    "\n",
    "plt.legend()\n",
    "\n",
    "plt.xlabel(\"Epochs\")\n",
    "plt.ylabel(\"Loss\")\n",
    "\n",
    "plt.title(\"189Lins Loss vs. Epochs graph\")\n",
    "\n",
    "plt.savefig(\"loss.png\")"
   ]
  },
  {
   "cell_type": "code",
   "execution_count": 9,
   "id": "c78a1a90",
   "metadata": {},
   "outputs": [
    {
     "name": "stdout",
     "output_type": "stream",
     "text": [
      "Model is nn1.3\n",
      "===> batch size = 128\n",
      "===> number of epochs = 70\n",
      "===> average train time per epoch = 12.05[min]\n"
     ]
    }
   ],
   "source": [
    "for model in models:\n",
    "    print(\"Model is {}\".format(model))\n",
    "    model_times = covit.getResults(name=model).getTimes()\n",
    "    num_epochs = 0\n",
    "    for model_num_epochs in model_times[\"epochs\"]:\n",
    "        num_epochs += model_num_epochs\n",
    "    batch_size = model_times[\"batch_size\"][0]\n",
    "    total_time = 0\n",
    "    for model_train_time in model_times[\"time\"]:\n",
    "        total_time += model_train_time\n",
    "    avg_time = total_time / num_epochs\n",
    "    print(\"===> batch size = {}\".format(batch_size))\n",
    "    print(\"===> number of epochs = {}\".format(num_epochs))\n",
    "    print(\"===> average train time per epoch = {:.2f}[min]\".format(avg_time / 60))"
   ]
  },
  {
   "cell_type": "code",
   "execution_count": null,
   "id": "973e2c6a",
   "metadata": {},
   "outputs": [],
   "source": []
  }
 ],
 "metadata": {
  "kernelspec": {
   "display_name": "Python 3 (ipykernel)",
   "language": "python",
   "name": "python3"
  },
  "language_info": {
   "codemirror_mode": {
    "name": "ipython",
    "version": 3
   },
   "file_extension": ".py",
   "mimetype": "text/x-python",
   "name": "python",
   "nbconvert_exporter": "python",
   "pygments_lexer": "ipython3",
   "version": "3.8.10"
  }
 },
 "nbformat": 4,
 "nbformat_minor": 5
}
