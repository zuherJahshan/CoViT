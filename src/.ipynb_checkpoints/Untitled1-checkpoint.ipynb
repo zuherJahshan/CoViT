{
 "cells": [
  {
   "cell_type": "code",
   "execution_count": null,
   "id": "810aaf15",
   "metadata": {},
   "outputs": [],
   "source": [
    "from DataCollector import DataCollectorv2\n",
    "from Dataset import DatasetHPs\n",
    "from NNModel import NNModelHPs\n",
    "from covit import CovitProject\n",
    "import os\n",
    "os.environ[\"CUDA_VISIBLE_DEVICES\"] = '-1'"
   ]
  },
  {
   "cell_type": "code",
   "execution_count": null,
   "id": "dee6b471",
   "metadata": {},
   "outputs": [],
   "source": [
    "dc = DataCollectorv2()"
   ]
  },
  {
   "cell_type": "code",
   "execution_count": null,
   "id": "33428473",
   "metadata": {},
   "outputs": [],
   "source": [
    "cnt = 0\n",
    "for lin in dc.remote_lin_accs_dict:\n",
    "    #if len(dc.remote_lin_accs_dict[lin]) >= 512:\n",
    "    cnt += 1\n",
    "print(cnt)\n",
    "#dc.downloadLineages(2048,2048)\n",
    "\n",
    "lins = dc.getLocalLineages(2048)\n",
    "print(len(lins))"
   ]
  },
  {
   "cell_type": "code",
   "execution_count": null,
   "id": "d8f3d67d",
   "metadata": {},
   "outputs": [],
   "source": [
    "dataset_hps = DatasetHPs(\n",
    "    lineages=lins,\n",
    "    max_accs_per_lineage=2048,\n",
    "    frag_len=256,\n",
    "    kmer_size=16,\n",
    "    n=256,\n",
    "    validation_split=0.2\n",
    ")\n",
    "\n",
    "covit_proj = CovitProject(\"133Lins\",\n",
    "                          dc,\n",
    "                          dataset_hps)"
   ]
  },
  {
   "cell_type": "code",
   "execution_count": null,
   "id": "db3598cc",
   "metadata": {},
   "outputs": [],
   "source": []
  }
 ],
 "metadata": {
  "kernelspec": {
   "display_name": "Python 3 (ipykernel)",
   "language": "python",
   "name": "python3"
  },
  "language_info": {
   "codemirror_mode": {
    "name": "ipython",
    "version": 3
   },
   "file_extension": ".py",
   "mimetype": "text/x-python",
   "name": "python",
   "nbconvert_exporter": "python",
   "pygments_lexer": "ipython3",
   "version": "3.8.10"
  }
 },
 "nbformat": 4,
 "nbformat_minor": 5
}
