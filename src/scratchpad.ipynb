{
 "cells": [
  {
   "cell_type": "code",
   "execution_count": 1,
   "id": "b4e90d26",
   "metadata": {},
   "outputs": [],
   "source": [
    "from DataCollector import DataCollectorv2\n",
    "from covit import CovitProject"
   ]
  },
  {
   "cell_type": "code",
   "execution_count": 2,
   "id": "81a6c6e7",
   "metadata": {},
   "outputs": [
    {
     "name": "stdout",
     "output_type": "stream",
     "text": [
      "Building Data frame\n",
      "Done building Data frame\n",
      "Building remote dicts\n",
      "Done building remote dicts\n",
      "Building local dicts\n",
      "Done building local dicts\n"
     ]
    }
   ],
   "source": [
    "dc = DataCollectorv2()"
   ]
  },
  {
   "cell_type": "code",
   "execution_count": 3,
   "id": "c0a56c78",
   "metadata": {},
   "outputs": [],
   "source": [
    "covit = CovitProject(project_name=\"107Lins\",\n",
    "                     data_collector=dc)"
   ]
  },
  {
   "cell_type": "code",
   "execution_count": 4,
   "id": "751eb7c3",
   "metadata": {},
   "outputs": [
    {
     "data": {
      "text/plain": [
       "['nn2.4']"
      ]
     },
     "execution_count": 4,
     "metadata": {},
     "output_type": "execute_result"
    }
   ],
   "source": [
    "covit.listNNModels()"
   ]
  },
  {
   "cell_type": "code",
   "execution_count": 5,
   "id": "b480018e",
   "metadata": {},
   "outputs": [],
   "source": [
    "model_name = covit.listNNModels()[-1]"
   ]
  },
  {
   "cell_type": "code",
   "execution_count": 6,
   "id": "3a2ae2b8",
   "metadata": {},
   "outputs": [
    {
     "name": "stderr",
     "output_type": "stream",
     "text": [
      "2022-08-28 14:43:19.246610: I tensorflow/stream_executor/cuda/cuda_gpu_executor.cc:975] successful NUMA node read from SysFS had negative value (-1), but there must be at least one NUMA node, so returning NUMA node zero\n",
      "2022-08-28 14:43:19.268424: I tensorflow/stream_executor/cuda/cuda_gpu_executor.cc:975] successful NUMA node read from SysFS had negative value (-1), but there must be at least one NUMA node, so returning NUMA node zero\n",
      "2022-08-28 14:43:19.268553: I tensorflow/stream_executor/cuda/cuda_gpu_executor.cc:975] successful NUMA node read from SysFS had negative value (-1), but there must be at least one NUMA node, so returning NUMA node zero\n",
      "2022-08-28 14:43:19.269222: I tensorflow/core/platform/cpu_feature_guard.cc:193] This TensorFlow binary is optimized with oneAPI Deep Neural Network Library (oneDNN) to use the following CPU instructions in performance-critical operations:  AVX2 FMA\n",
      "To enable them in other operations, rebuild TensorFlow with the appropriate compiler flags.\n",
      "2022-08-28 14:43:19.269782: I tensorflow/stream_executor/cuda/cuda_gpu_executor.cc:975] successful NUMA node read from SysFS had negative value (-1), but there must be at least one NUMA node, so returning NUMA node zero\n",
      "2022-08-28 14:43:19.269885: I tensorflow/stream_executor/cuda/cuda_gpu_executor.cc:975] successful NUMA node read from SysFS had negative value (-1), but there must be at least one NUMA node, so returning NUMA node zero\n",
      "2022-08-28 14:43:19.269972: I tensorflow/stream_executor/cuda/cuda_gpu_executor.cc:975] successful NUMA node read from SysFS had negative value (-1), but there must be at least one NUMA node, so returning NUMA node zero\n",
      "2022-08-28 14:43:19.560117: I tensorflow/stream_executor/cuda/cuda_gpu_executor.cc:975] successful NUMA node read from SysFS had negative value (-1), but there must be at least one NUMA node, so returning NUMA node zero\n",
      "2022-08-28 14:43:19.560251: I tensorflow/stream_executor/cuda/cuda_gpu_executor.cc:975] successful NUMA node read from SysFS had negative value (-1), but there must be at least one NUMA node, so returning NUMA node zero\n",
      "2022-08-28 14:43:19.560348: I tensorflow/stream_executor/cuda/cuda_gpu_executor.cc:975] successful NUMA node read from SysFS had negative value (-1), but there must be at least one NUMA node, so returning NUMA node zero\n",
      "2022-08-28 14:43:19.560430: I tensorflow/core/common_runtime/gpu/gpu_device.cc:1532] Created device /job:localhost/replica:0/task:0/device:GPU:0 with 1066 MB memory:  -> device: 0, name: Quadro P620, pci bus id: 0000:01:00.0, compute capability: 6.1\n",
      "2022-08-28 14:43:28.515975: I tensorflow/stream_executor/cuda/cuda_dnn.cc:384] Loaded cuDNN version 8400\n"
     ]
    }
   ],
   "source": [
    "covit.loadNNModel(name=model_name)"
   ]
  },
  {
   "cell_type": "code",
   "execution_count": 7,
   "id": "08fd0150",
   "metadata": {},
   "outputs": [],
   "source": [
    "path_to_fasta_dir = \"../ExampleAccs\""
   ]
  },
  {
   "cell_type": "code",
   "execution_count": 8,
   "id": "184965c9",
   "metadata": {},
   "outputs": [
    {
     "name": "stdout",
     "output_type": "stream",
     "text": [
      "OU407566\n",
      "[[0.00386509 0.00275175 0.00290585 ... 0.00593786 0.00343953 0.00348887]\n",
      " [0.00386245 0.00275674 0.00287624 ... 0.00597292 0.00343725 0.00347173]\n",
      " [0.00386186 0.00274297 0.0028855  ... 0.00597112 0.00343058 0.00347496]\n",
      " ...\n",
      " [0.00385887 0.00271827 0.00286285 ... 0.00602908 0.00341882 0.00346401]\n",
      " [0.00386593 0.00273265 0.00286894 ... 0.00602694 0.0034427  0.00348183]\n",
      " [0.00386924 0.00276168 0.00289607 ... 0.00595849 0.00345259 0.00349447]]\n",
      "../ExampleAccs/OU407566.png\n",
      "OU403421\n",
      "[[0.00261733 0.00412194 0.00373835 ... 0.00589532 0.00394324 0.00314435]\n",
      " [0.00262822 0.00412126 0.00375294 ... 0.00586095 0.00394632 0.00316116]\n",
      " [0.00263175 0.00403215 0.00392062 ... 0.00585675 0.00390004 0.00314604]\n",
      " ...\n",
      " [0.00260022 0.00411088 0.00376644 ... 0.00592347 0.00393779 0.00313484]\n",
      " [0.00259947 0.00413267 0.00372871 ... 0.00592042 0.00395138 0.00313901]\n",
      " [0.00262322 0.00413146 0.00372895 ... 0.00587445 0.00395078 0.0031553 ]]\n",
      "../ExampleAccs/OU403421.png\n"
     ]
    }
   ],
   "source": [
    "covit.getAttentionImages(model_name=model_name,\n",
    "                         path_to_fasta_dir=path_to_fasta_dir)"
   ]
  },
  {
   "cell_type": "code",
   "execution_count": null,
   "id": "bbc54cdf",
   "metadata": {},
   "outputs": [],
   "source": []
  }
 ],
 "metadata": {
  "kernelspec": {
   "display_name": "Python 3 (ipykernel)",
   "language": "python",
   "name": "python3"
  },
  "language_info": {
   "codemirror_mode": {
    "name": "ipython",
    "version": 3
   },
   "file_extension": ".py",
   "mimetype": "text/x-python",
   "name": "python",
   "nbconvert_exporter": "python",
   "pygments_lexer": "ipython3",
   "version": "3.8.5"
  }
 },
 "nbformat": 4,
 "nbformat_minor": 5
}
