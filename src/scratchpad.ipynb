{
 "cells": [
  {
   "cell_type": "code",
   "execution_count": 1,
   "id": "b4e90d26",
   "metadata": {},
   "outputs": [],
   "source": [
    "from DataCollector import DataCollectorv2\n",
    "from Dataset import DatasetHPs\n",
    "from NNModel import NNModelHPs\n",
    "from covit import CovitProject"
   ]
  },
  {
   "cell_type": "code",
   "execution_count": 2,
   "id": "81a6c6e7",
   "metadata": {},
   "outputs": [
    {
     "name": "stdout",
     "output_type": "stream",
     "text": [
      "Building Data frame\n",
      "Done building Data frame\n",
      "Building remote dicts\n",
      "Done building remote dicts\n",
      "Building local dicts\n",
      "Done building local dicts\n"
     ]
    }
   ],
   "source": [
    "dc = DataCollectorv2()"
   ]
  },
  {
   "cell_type": "code",
   "execution_count": 3,
   "id": "c0a56c78",
   "metadata": {},
   "outputs": [],
   "source": [
    "covit = CovitProject(project_name=\"Visualization\",\n",
    "                     data_collector=dc)"
   ]
  },
  {
   "cell_type": "code",
   "execution_count": 4,
   "id": "751eb7c3",
   "metadata": {},
   "outputs": [
    {
     "name": "stderr",
     "output_type": "stream",
     "text": [
      "2022-08-28 17:08:45.786768: I tensorflow/stream_executor/cuda/cuda_gpu_executor.cc:975] successful NUMA node read from SysFS had negative value (-1), but there must be at least one NUMA node, so returning NUMA node zero\n",
      "2022-08-28 17:08:45.813417: I tensorflow/stream_executor/cuda/cuda_gpu_executor.cc:975] successful NUMA node read from SysFS had negative value (-1), but there must be at least one NUMA node, so returning NUMA node zero\n",
      "2022-08-28 17:08:45.813549: I tensorflow/stream_executor/cuda/cuda_gpu_executor.cc:975] successful NUMA node read from SysFS had negative value (-1), but there must be at least one NUMA node, so returning NUMA node zero\n",
      "2022-08-28 17:08:45.813998: I tensorflow/core/platform/cpu_feature_guard.cc:193] This TensorFlow binary is optimized with oneAPI Deep Neural Network Library (oneDNN) to use the following CPU instructions in performance-critical operations:  AVX2 FMA\n",
      "To enable them in other operations, rebuild TensorFlow with the appropriate compiler flags.\n",
      "2022-08-28 17:08:45.814784: I tensorflow/stream_executor/cuda/cuda_gpu_executor.cc:975] successful NUMA node read from SysFS had negative value (-1), but there must be at least one NUMA node, so returning NUMA node zero\n",
      "2022-08-28 17:08:45.814900: I tensorflow/stream_executor/cuda/cuda_gpu_executor.cc:975] successful NUMA node read from SysFS had negative value (-1), but there must be at least one NUMA node, so returning NUMA node zero\n",
      "2022-08-28 17:08:45.814996: I tensorflow/stream_executor/cuda/cuda_gpu_executor.cc:975] successful NUMA node read from SysFS had negative value (-1), but there must be at least one NUMA node, so returning NUMA node zero\n",
      "2022-08-28 17:08:46.104097: I tensorflow/stream_executor/cuda/cuda_gpu_executor.cc:975] successful NUMA node read from SysFS had negative value (-1), but there must be at least one NUMA node, so returning NUMA node zero\n",
      "2022-08-28 17:08:46.104235: I tensorflow/stream_executor/cuda/cuda_gpu_executor.cc:975] successful NUMA node read from SysFS had negative value (-1), but there must be at least one NUMA node, so returning NUMA node zero\n",
      "2022-08-28 17:08:46.104332: I tensorflow/stream_executor/cuda/cuda_gpu_executor.cc:975] successful NUMA node read from SysFS had negative value (-1), but there must be at least one NUMA node, so returning NUMA node zero\n",
      "2022-08-28 17:08:46.104416: I tensorflow/core/common_runtime/gpu/gpu_device.cc:1532] Created device /job:localhost/replica:0/task:0/device:GPU:0 with 1127 MB memory:  -> device: 0, name: Quadro P620, pci bus id: 0000:01:00.0, compute capability: 6.1\n",
      "2022-08-28 17:08:47.060856: I tensorflow/stream_executor/cuda/cuda_dnn.cc:384] Loaded cuDNN version 8400\n"
     ]
    }
   ],
   "source": [
    "new_model = \"nn\"\n",
    "\n",
    "nnmodel_hps = NNModelHPs(\n",
    "    encoder_repeats = 1,\n",
    "    classes = len(covit.dataset.getLineages()),\n",
    "    d_model = 256,\n",
    "    d_val = 96,\n",
    "    d_key = 96,\n",
    "    d_ff = 1536,\n",
    "    heads = 1,\n",
    "    dropout_rate = 0.1\n",
    ")\n",
    "\n",
    "covit.loadNNModel(name=new_model,)"
   ]
  },
  {
   "cell_type": "code",
   "execution_count": 5,
   "id": "b480018e",
   "metadata": {},
   "outputs": [],
   "source": [
    "# covit.train(new_model,\n",
    "#             epochs=10,\n",
    "#             batch_size=256,\n",
    "#             mini_batch_size=64)"
   ]
  },
  {
   "cell_type": "code",
   "execution_count": 6,
   "id": "3a2ae2b8",
   "metadata": {},
   "outputs": [
    {
     "name": "stdout",
     "output_type": "stream",
     "text": [
      "OM211186\n",
      "[[6.18452236e-27 5.74646699e-29 2.56881645e-26 ... 1.28973298e-25\n",
      "  9.22284938e-29 2.75510490e-28]\n",
      " [4.32212754e-09 2.38763875e-09 4.89538010e-09 ... 2.85484014e-09\n",
      "  9.82636728e-09 5.17313907e-08]\n",
      " [6.17465517e-03 1.95181012e-04 2.10746517e-03 ... 1.34447007e-03\n",
      "  2.63880996e-04 2.38164735e-04]\n",
      " ...\n",
      " [2.46642012e-04 2.90191057e-03 2.10024696e-03 ... 1.08278655e-02\n",
      "  6.46262779e-04 4.42873541e-04]\n",
      " [3.13622149e-04 9.03036707e-05 8.25862007e-05 ... 2.83217552e-04\n",
      "  1.81812681e-02 6.94302842e-03]\n",
      " [1.23855565e-02 1.85754834e-04 4.94891952e-04 ... 1.64305104e-03\n",
      "  1.01772631e-02 3.86775797e-03]]\n",
      "../ExampleAccs/OM211186.png\n",
      "MZ253644\n",
      "[[6.1845224e-27 5.7464670e-29 2.5688165e-26 ... 2.0618719e-29\n",
      "  2.7023184e-30 1.1624585e-27]\n",
      " [4.3221271e-09 2.3876385e-09 4.8953797e-09 ... 4.7787418e-09\n",
      "  3.0558914e-10 4.3250385e-09]\n",
      " [5.9557874e-03 1.8826259e-04 2.0327636e-03 ... 4.9271068e-04\n",
      "  7.4620587e-03 4.4755390e-04]\n",
      " ...\n",
      " [1.0508754e-04 1.4701213e-03 8.9853781e-04 ... 7.4324082e-04\n",
      "  1.3822220e-04 1.5664389e-04]\n",
      " [6.0286472e-04 2.1198166e-03 3.1927485e-02 ... 5.2933284e-04\n",
      "  7.9568702e-04 5.0001411e-04]\n",
      " [8.8453025e-06 5.9304648e-04 2.9017890e-04 ... 2.2186263e-04\n",
      "  5.9909189e-06 3.0979583e-05]]\n",
      "../ExampleAccs/MZ253644.png\n",
      "OV568865\n",
      "[[9.9120961e-11 7.3675544e-13 6.9128087e-10 ... 6.9620179e-14\n",
      "  3.8670598e-11 7.9364105e-07]\n",
      " [4.5081665e-04 2.0644545e-04 4.2327531e-04 ... 2.6422547e-05\n",
      "  3.2514360e-04 1.1992548e-03]\n",
      " [3.6618614e-03 1.8063902e-04 1.9504486e-03 ... 7.1598887e-03\n",
      "  3.4526017e-04 1.2443593e-03]\n",
      " ...\n",
      " [7.0934213e-04 2.2095921e-03 3.3279635e-02 ... 8.2938490e-04\n",
      "  5.0950528e-04 4.6871667e-04]\n",
      " [7.5597600e-05 3.8627421e-03 2.0700067e-03 ... 3.7124482e-05\n",
      "  2.5286138e-04 1.0706027e-02]\n",
      " [6.7170983e-04 2.3369968e-03 1.4719337e-03 ... 1.8272379e-01\n",
      "  4.1790921e-04 4.7338591e-03]]\n",
      "../ExampleAccs/OV568865.png\n",
      "OD948594\n",
      "[[1.5776539e-14 5.0490385e-15 1.8243764e-15 ... 8.5026794e-14\n",
      "  1.1679378e-14 1.5378395e-14]\n",
      " [2.7922240e-26 6.1845224e-27 5.7464670e-29 ... 1.2897330e-25\n",
      "  9.2228494e-29 2.7551049e-28]\n",
      " [4.6217966e-08 4.3221253e-09 2.3876376e-09 ... 2.8548388e-09\n",
      "  9.8263628e-09 5.1731366e-08]\n",
      " ...\n",
      " [7.4276603e-03 2.4480029e-04 2.8802413e-03 ... 1.0747011e-02\n",
      "  6.4143696e-04 4.3956650e-04]\n",
      " [6.4497365e-04 3.1544873e-04 9.0829613e-05 ... 2.8486707e-04\n",
      "  1.8287160e-02 6.9834655e-03]\n",
      " [7.0174050e-04 1.2586903e-02 1.8877456e-04 ... 1.6697614e-03\n",
      "  1.0342710e-02 3.9306344e-03]]\n",
      "../ExampleAccs/OD948594.png\n"
     ]
    }
   ],
   "source": [
    "fasta_dir = \"../ExampleAccs\"\n",
    "num_parallel_calls = 1\n",
    "\n",
    "covit.getAttentionImages(model_name=new_model,\n",
    "                         path_to_fasta_dir=fasta_dir,\n",
    "                         num_parallel_calls=1,\n",
    "                         batch_size=1)"
   ]
  },
  {
   "cell_type": "code",
   "execution_count": null,
   "id": "a9053997",
   "metadata": {},
   "outputs": [],
   "source": []
  }
 ],
 "metadata": {
  "kernelspec": {
   "display_name": "Python 3 (ipykernel)",
   "language": "python",
   "name": "python3"
  },
  "language_info": {
   "codemirror_mode": {
    "name": "ipython",
    "version": 3
   },
   "file_extension": ".py",
   "mimetype": "text/x-python",
   "name": "python",
   "nbconvert_exporter": "python",
   "pygments_lexer": "ipython3",
   "version": "3.8.5"
  }
 },
 "nbformat": 4,
 "nbformat_minor": 5
}
