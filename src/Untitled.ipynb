{
 "cells": [
  {
   "cell_type": "code",
   "execution_count": 1,
   "id": "1038db40",
   "metadata": {},
   "outputs": [],
   "source": [
    "from DataCollector import DataCollectorv2\n",
    "from Dataset import DatasetHPs\n",
    "from NNModel import NNModelHPs\n",
    "from covit import CovitProject"
   ]
  },
  {
   "cell_type": "code",
   "execution_count": null,
   "id": "7d64e82b",
   "metadata": {},
   "outputs": [
    {
     "name": "stdout",
     "output_type": "stream",
     "text": [
      "Building Data frame\n",
      "Done building Data frame\n",
      "Building remote dicts\n"
     ]
    }
   ],
   "source": [
    "dc = DataCollectorv2()"
   ]
  },
  {
   "cell_type": "code",
   "execution_count": null,
   "id": "130882ff",
   "metadata": {},
   "outputs": [],
   "source": [
    "covit375 = CovitProject(project_name=\"375Lins\",\n",
    "                        data_collector=dc)"
   ]
  },
  {
   "cell_type": "code",
   "execution_count": null,
   "id": "584b6c2e",
   "metadata": {},
   "outputs": [],
   "source": [
    "nnmodel_hps = NNModelHPs(\n",
    "    encoder_repeats = 2,\n",
    "    classes = len(covit375.dataset.getLineages()),\n",
    "    d_model = covit375.dataset.hps.frag_len,\n",
    "    d_val = 128,\n",
    "    d_key = 128,\n",
    "    d_ff = 1024,\n",
    "    heads = 16,\n",
    "    dropout_rate = 0.1\n",
    ")\n",
    "\n",
    "covit375.addNNModel(\"nn1\",\n",
    "                    nnmodel_hps)"
   ]
  },
  {
   "cell_type": "code",
   "execution_count": null,
   "id": "e5e02d9c",
   "metadata": {},
   "outputs": [],
   "source": [
    "covit375.train(name='nn1',\n",
    "               epochs=1,\n",
    "               batch_size=192)"
   ]
  },
  {
   "cell_type": "code",
   "execution_count": null,
   "id": "74d23010",
   "metadata": {},
   "outputs": [],
   "source": [
    "covit375.evaluate(name=\"nn1\",batch_size=192)"
   ]
  },
  {
   "cell_type": "code",
   "execution_count": null,
   "id": "a2f96978",
   "metadata": {},
   "outputs": [],
   "source": []
  }
 ],
 "metadata": {
  "kernelspec": {
   "display_name": "Python 3 (ipykernel)",
   "language": "python",
   "name": "python3"
  },
  "language_info": {
   "codemirror_mode": {
    "name": "ipython",
    "version": 3
   },
   "file_extension": ".py",
   "mimetype": "text/x-python",
   "name": "python",
   "nbconvert_exporter": "python",
   "pygments_lexer": "ipython3",
   "version": "3.8.10"
  }
 },
 "nbformat": 4,
 "nbformat_minor": 5
}
