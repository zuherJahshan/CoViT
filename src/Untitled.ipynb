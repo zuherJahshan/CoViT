{
 "cells": [
  {
   "cell_type": "code",
   "execution_count": 1,
   "id": "1038db40",
   "metadata": {},
   "outputs": [],
   "source": [
    "from DataCollector import DataCollectorv2\n",
    "from Dataset import DatasetHPs\n",
    "from NNModel import NNModelHPs\n",
    "from covit import CovitProject\n",
    "import os\n",
    "\n",
    "os.environ[\"CUDA_VISIBLE_DEVICES\"] = \"-1\""
   ]
  },
  {
   "cell_type": "code",
   "execution_count": 2,
   "id": "7d64e82b",
   "metadata": {},
   "outputs": [
    {
     "name": "stdout",
     "output_type": "stream",
     "text": [
      "Building Data frame\n",
      "Done building Data frame\n",
      "Building remote dicts\n",
      "Done building remote dicts\n",
      "Building local dicts\n",
      "Done building local dicts\n"
     ]
    }
   ],
   "source": [
    "dc = DataCollectorv2()"
   ]
  },
  {
   "cell_type": "code",
   "execution_count": 3,
   "id": "16890687",
   "metadata": {},
   "outputs": [
    {
     "data": {
      "image/png": "[encoded data removed]",
      "text/plain": [
       "<Figure size 432x288 with 1 Axes>"
      ]
     },
     "metadata": {
      "needs_background": "light"
     },
     "output_type": "display_data"
    }
   ],
   "source": [
    "dc.getCountHist()"
   ]
  },
  {
   "cell_type": "code",
   "execution_count": 4,
   "id": "130882ff",
   "metadata": {},
   "outputs": [],
   "source": [
    "lins = dc.getLocalLineages(128)[:10]\n",
    "dataset_hps = DatasetHPs(lineages=lins,\n",
    "                         frag_len=256,\n",
    "                         kmer_size=20,\n",
    "                         n=192,\n",
    "                         validation_split=0.2)\n",
    "covit_proj = CovitProject(project_name=\"dummy\",\n",
    "                          data_collector=dc)"
   ]
  },
  {
   "cell_type": "code",
   "execution_count": 5,
   "id": "2a546acd",
   "metadata": {},
   "outputs": [
    {
     "name": "stdout",
     "output_type": "stream",
     "text": [
      "A Neural Network model named nn-d already exists. loading it instead of creating\n"
     ]
    },
    {
     "name": "stderr",
     "output_type": "stream",
     "text": [
      "2022-07-10 15:28:41.314252: E tensorflow/stream_executor/cuda/cuda_driver.cc:271] failed call to cuInit: CUDA_ERROR_NO_DEVICE: no CUDA-capable device is detected\n",
      "2022-07-10 15:28:41.314346: I tensorflow/stream_executor/cuda/cuda_diagnostics.cc:169] retrieving CUDA diagnostic information for host: ZJ\n",
      "2022-07-10 15:28:41.314361: I tensorflow/stream_executor/cuda/cuda_diagnostics.cc:176] hostname: ZJ\n",
      "2022-07-10 15:28:41.314491: I tensorflow/stream_executor/cuda/cuda_diagnostics.cc:200] libcuda reported version is: 510.73.5\n",
      "2022-07-10 15:28:41.314545: I tensorflow/stream_executor/cuda/cuda_diagnostics.cc:204] kernel reported version is: 510.73.5\n",
      "2022-07-10 15:28:41.314559: I tensorflow/stream_executor/cuda/cuda_diagnostics.cc:310] kernel version seems to match DSO: 510.73.5\n",
      "2022-07-10 15:28:41.315057: I tensorflow/core/platform/cpu_feature_guard.cc:151] This TensorFlow binary is optimized with oneAPI Deep Neural Network Library (oneDNN) to use the following CPU instructions in performance-critical operations:  AVX2 FMA\n",
      "To enable them in other operations, rebuild TensorFlow with the appropriate compiler flags.\n"
     ]
    }
   ],
   "source": [
    "nnmodel_hps = NNModelHPs(encoder_repeats=1,\n",
    "                         classes=10,\n",
    "                         d_model=256, # Need to fix it to be equal to frag_len\n",
    "                         d_val=64,\n",
    "                         d_key=64,\n",
    "                         d_ff=64,\n",
    "                         heads=1,\n",
    "                         dropout_rate=0.1)\n",
    "covit_proj.addNNModel(\"nn-d\",nnmodel_hps)"
   ]
  },
  {
   "cell_type": "code",
   "execution_count": null,
   "id": "584b6c2e",
   "metadata": {},
   "outputs": [],
   "source": [
    "covit_proj.train(name='nn-d',\n",
    "                 epochs=1,\n",
    "                 batch_size=64)"
   ]
  },
  {
   "cell_type": "code",
   "execution_count": null,
   "id": "3080be97",
   "metadata": {},
   "outputs": [],
   "source": [
    "covit_proj.name_nnmodel_map['nn-d'].nn.N"
   ]
  },
  {
   "cell_type": "code",
   "execution_count": null,
   "id": "e5e02d9c",
   "metadata": {},
   "outputs": [],
   "source": [
    "covit_proj.name_nnmodel_map['nn-d'].deepenNN()\n",
    "covit_proj.train(name='nn-d',\n",
    "                 epochs=1,\n",
    "                 batch_size=64)"
   ]
  },
  {
   "cell_type": "code",
   "execution_count": null,
   "id": "82b8479d",
   "metadata": {},
   "outputs": [],
   "source": [
    "covit_proj.name_nnmodel_map['nn-d'].nn.summary()"
   ]
  },
  {
   "cell_type": "code",
   "execution_count": 6,
   "id": "748871b3",
   "metadata": {},
   "outputs": [],
   "source": [
    "res = covit_proj.getResults('nn-d')"
   ]
  },
  {
   "cell_type": "code",
   "execution_count": 7,
   "id": "63bbb43e",
   "metadata": {},
   "outputs": [
    {
     "name": "stdout",
     "output_type": "stream",
     "text": [
      "{'loss': [2.0124804973602295, 1.6775400638580322, 0.8857930898666382, 0.49363550543785095, 0.5983390808105469], 'top1_accuracy': [0.25806450843811035, 0.3422378897666931, 0.6315523982048035, 0.8266128897666931, 0.7958669066429138], 'top2_accuracy': [0.4526209533214569, 0.5811492204666138, 0.852318525314331, 0.9465726017951965, 0.9203628897666931], 'top5_accuracy': [0.8004032373428345, 0.8845766186714172, 0.9899193644523621, 0.9909273982048035, 0.9677419066429138], 'epochs': [1, 1, 1, 1, 1], 'batch_size': [64, 64, 64, 64, 64], 'trainset_size': [2040, 2040, 2040, 2040, 2040], 'time': [9.354651732999628, 14.437540040000385, 14.480829918000381, 14.595363749998796, 16.233715206000852]}\n"
     ]
    }
   ],
   "source": [
    "print(res.getPerf())"
   ]
  },
  {
   "cell_type": "code",
   "execution_count": null,
   "id": "74d23010",
   "metadata": {},
   "outputs": [],
   "source": []
  }
 ],
 "metadata": {
  "kernelspec": {
   "display_name": "Python 3 (ipykernel)",
   "language": "python",
   "name": "python3"
  },
  "language_info": {
   "codemirror_mode": {
    "name": "ipython",
    "version": 3
   },
   "file_extension": ".py",
   "mimetype": "text/x-python",
   "name": "python",
   "nbconvert_exporter": "python",
   "pygments_lexer": "ipython3",
   "version": "3.8.5"
  }
 },
 "nbformat": 4,
 "nbformat_minor": 5
}
