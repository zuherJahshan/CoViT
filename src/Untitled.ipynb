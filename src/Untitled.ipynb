{
 "cells": [
  {
   "cell_type": "code",
   "execution_count": 1,
   "id": "1038db40",
   "metadata": {},
   "outputs": [],
   "source": [
    "from DataCollector import DataCollectorv2\n",
    "from Dataset import DatasetHPs\n",
    "from NNModel import NNModelHPs\n",
    "from covit import CovitProject\n",
    "import os\n",
    "\n",
    "os.environ[\"CUDA_VISIBLE_DEVICES\"] = \"-1\""
   ]
  },
  {
   "cell_type": "code",
   "execution_count": 2,
   "id": "7d64e82b",
   "metadata": {},
   "outputs": [
    {
     "name": "stdout",
     "output_type": "stream",
     "text": [
      "Building Data frame\n",
      "Done building Data frame\n",
      "Building remote dicts\n",
      "Done building remote dicts\n",
      "Building local dicts\n",
      "Done building local dicts\n"
     ]
    }
   ],
   "source": [
    "dc = DataCollectorv2()"
   ]
  },
  {
   "cell_type": "code",
   "execution_count": 3,
   "id": "16890687",
   "metadata": {},
   "outputs": [],
   "source": [
    "lins = dc.getLocalLineages(128)[:10]\n",
    "dataset_hps = DatasetHPs(lineages=lins,\n",
    "                         frag_len=256,\n",
    "                         kmer_size=20,\n",
    "                         n=192,\n",
    "                         validation_split=0.2)"
   ]
  },
  {
   "cell_type": "code",
   "execution_count": 4,
   "id": "130882ff",
   "metadata": {},
   "outputs": [],
   "source": [
    "covit_proj = CovitProject(project_name=\"dummy\",\n",
    "                          data_collector=dc)"
   ]
  },
  {
   "cell_type": "code",
   "execution_count": 5,
   "id": "2a546acd",
   "metadata": {},
   "outputs": [
    {
     "name": "stderr",
     "output_type": "stream",
     "text": [
      "2022-07-05 17:30:13.375780: E tensorflow/stream_executor/cuda/cuda_driver.cc:271] failed call to cuInit: CUDA_ERROR_NO_DEVICE: no CUDA-capable device is detected\n",
      "2022-07-05 17:30:13.375882: I tensorflow/stream_executor/cuda/cuda_diagnostics.cc:169] retrieving CUDA diagnostic information for host: ZJ\n",
      "2022-07-05 17:30:13.375904: I tensorflow/stream_executor/cuda/cuda_diagnostics.cc:176] hostname: ZJ\n",
      "2022-07-05 17:30:13.376084: I tensorflow/stream_executor/cuda/cuda_diagnostics.cc:200] libcuda reported version is: 510.73.5\n",
      "2022-07-05 17:30:13.376160: I tensorflow/stream_executor/cuda/cuda_diagnostics.cc:204] kernel reported version is: 510.73.5\n",
      "2022-07-05 17:30:13.376181: I tensorflow/stream_executor/cuda/cuda_diagnostics.cc:310] kernel version seems to match DSO: 510.73.5\n",
      "2022-07-05 17:30:13.377262: I tensorflow/core/platform/cpu_feature_guard.cc:151] This TensorFlow binary is optimized with oneAPI Deep Neural Network Library (oneDNN) to use the following CPU instructions in performance-critical operations:  AVX2 FMA\n",
      "To enable them in other operations, rebuild TensorFlow with the appropriate compiler flags.\n"
     ]
    }
   ],
   "source": [
    "nnmodel_hps = NNModelHPs(encoder_repeats=4,\n",
    "                         classes=10,\n",
    "                         d_model=256, # Need to fix it to be equal to frag_len\n",
    "                         d_val=64,\n",
    "                         d_key=64,\n",
    "                         d_ff=1024,\n",
    "                         heads=12,\n",
    "                         dropout_rate=0.1)\n",
    "covit_proj.addNNModel(\"nn2\",nnmodel_hps)"
   ]
  },
  {
   "cell_type": "code",
   "execution_count": 6,
   "id": "584b6c2e",
   "metadata": {},
   "outputs": [
    {
     "name": "stdout",
     "output_type": "stream",
     "text": [
      "Epoch 1/20\n",
      "31/31 [==============================] - 121s 3s/step - loss: 3.2099 - top1_accuracy: 0.1326 - top2_accuracy: 0.2611 - top5_accuracy: 0.6215\n",
      "Epoch 2/20\n",
      "31/31 [==============================] - 108s 3s/step - loss: 2.3734 - top1_accuracy: 0.1245 - top2_accuracy: 0.2535 - top5_accuracy: 0.5983\n",
      "Epoch 3/20\n",
      "31/31 [==============================] - 112s 4s/step - loss: 2.3430 - top1_accuracy: 0.1436 - top2_accuracy: 0.2787 - top5_accuracy: 0.6492\n",
      "Epoch 4/20\n",
      "31/31 [==============================] - 114s 4s/step - loss: 2.3849 - top1_accuracy: 0.1376 - top2_accuracy: 0.2485 - top5_accuracy: 0.5872\n",
      "Epoch 5/20\n",
      "31/31 [==============================] - 109s 4s/step - loss: 2.3835 - top1_accuracy: 0.1376 - top2_accuracy: 0.2566 - top5_accuracy: 0.5948\n",
      "Epoch 6/20\n",
      "31/31 [==============================] - 107s 3s/step - loss: 2.3724 - top1_accuracy: 0.1280 - top2_accuracy: 0.2586 - top5_accuracy: 0.6038\n",
      "Epoch 7/20\n",
      "31/31 [==============================] - 106s 3s/step - loss: 2.3802 - top1_accuracy: 0.1250 - top2_accuracy: 0.2354 - top5_accuracy: 0.6048\n",
      "Epoch 8/20\n",
      "31/31 [==============================] - 106s 3s/step - loss: 2.3724 - top1_accuracy: 0.1295 - top2_accuracy: 0.2566 - top5_accuracy: 0.6018\n",
      "Epoch 9/20\n",
      "31/31 [==============================] - 106s 3s/step - loss: 2.3723 - top1_accuracy: 0.1280 - top2_accuracy: 0.2455 - top5_accuracy: 0.6048\n",
      "Epoch 10/20\n",
      "31/31 [==============================] - 106s 3s/step - loss: 2.3816 - top1_accuracy: 0.1230 - top2_accuracy: 0.2364 - top5_accuracy: 0.5660\n",
      "Epoch 11/20\n",
      "31/31 [==============================] - 106s 3s/step - loss: 2.4042 - top1_accuracy: 0.1235 - top2_accuracy: 0.2470 - top5_accuracy: 0.5756\n",
      "Epoch 12/20\n",
      "31/31 [==============================] - 106s 3s/step - loss: 2.3758 - top1_accuracy: 0.1200 - top2_accuracy: 0.2445 - top5_accuracy: 0.5932\n",
      "Epoch 13/20\n",
      "31/31 [==============================] - 106s 3s/step - loss: 2.3937 - top1_accuracy: 0.1129 - top2_accuracy: 0.2419 - top5_accuracy: 0.5403\n",
      "Epoch 14/20\n",
      "31/31 [==============================] - 106s 3s/step - loss: 2.3808 - top1_accuracy: 0.1159 - top2_accuracy: 0.2429 - top5_accuracy: 0.5625\n",
      "Epoch 15/20\n",
      "31/31 [==============================] - 106s 3s/step - loss: 2.3669 - top1_accuracy: 0.1245 - top2_accuracy: 0.2480 - top5_accuracy: 0.5948\n",
      "Epoch 16/20\n",
      "31/31 [==============================] - 108s 3s/step - loss: 2.3925 - top1_accuracy: 0.1396 - top2_accuracy: 0.2445 - top5_accuracy: 0.5474\n",
      "Epoch 17/20\n",
      "31/31 [==============================] - 117s 4s/step - loss: 2.3865 - top1_accuracy: 0.1190 - top2_accuracy: 0.2445 - top5_accuracy: 0.5212\n",
      "Epoch 18/20\n",
      "31/31 [==============================] - 120s 4s/step - loss: 2.3613 - top1_accuracy: 0.1285 - top2_accuracy: 0.2661 - top5_accuracy: 0.5902\n",
      "Epoch 19/20\n",
      "31/31 [==============================] - 113s 4s/step - loss: 2.3541 - top1_accuracy: 0.1250 - top2_accuracy: 0.2515 - top5_accuracy: 0.5696\n",
      "Epoch 20/20\n",
      "31/31 [==============================] - 113s 4s/step - loss: 2.3745 - top1_accuracy: 0.0988 - top2_accuracy: 0.1920 - top5_accuracy: 0.4718\n"
     ]
    },
    {
     "name": "stderr",
     "output_type": "stream",
     "text": [
      "2022-07-05 18:06:55.398746: W tensorflow/python/util/util.cc:368] Sets are not currently considered sequences, but this may change in the future, so consider avoiding using them.\n"
     ]
    },
    {
     "name": "stdout",
     "output_type": "stream",
     "text": [
      "INFO:tensorflow:Assets written to: ../Projects/dummy/NNModels/nn2/nn/assets\n"
     ]
    },
    {
     "name": "stderr",
     "output_type": "stream",
     "text": [
      "INFO:tensorflow:Assets written to: ../Projects/dummy/NNModels/nn2/nn/assets\n"
     ]
    },
    {
     "data": {
      "text/plain": [
       "<keras.callbacks.History at 0x7f4c54dd3820>"
      ]
     },
     "execution_count": 6,
     "metadata": {},
     "output_type": "execute_result"
    }
   ],
   "source": [
    "covit_proj.train(name='nn2',\n",
    "                 epochs=20,\n",
    "                 batch_size=64)"
   ]
  },
  {
   "cell_type": "code",
   "execution_count": null,
   "id": "f40eb2e3",
   "metadata": {},
   "outputs": [],
   "source": []
  }
 ],
 "metadata": {
  "kernelspec": {
   "display_name": "Python 3 (ipykernel)",
   "language": "python",
   "name": "python3"
  },
  "language_info": {
   "codemirror_mode": {
    "name": "ipython",
    "version": 3
   },
   "file_extension": ".py",
   "mimetype": "text/x-python",
   "name": "python",
   "nbconvert_exporter": "python",
   "pygments_lexer": "ipython3",
   "version": "3.8.5"
  }
 },
 "nbformat": 4,
 "nbformat_minor": 5
}
