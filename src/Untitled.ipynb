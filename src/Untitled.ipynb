{
 "cells": [
  {
   "cell_type": "code",
   "execution_count": 1,
   "id": "1038db40",
   "metadata": {},
   "outputs": [],
   "source": [
    "from DataCollector import DataCollectorv2\n",
    "from Dataset import DatasetHPs\n",
    "from NNModel import NNModelHPs\n",
    "from covit import CovitProject\n",
    "import os\n",
    "\n",
    "os.environ[\"CUDA_VISIBLE_DEVICES\"] = \"-1\""
   ]
  },
  {
   "cell_type": "code",
   "execution_count": 2,
   "id": "7d64e82b",
   "metadata": {},
   "outputs": [
    {
     "name": "stdout",
     "output_type": "stream",
     "text": [
      "Building Data frame\n",
      "Done building Data frame\n",
      "Building remote dicts\n",
      "Done building remote dicts\n",
      "Building local dicts\n",
      "Done building local dicts\n"
     ]
    }
   ],
   "source": [
    "dc = DataCollectorv2()"
   ]
  },
  {
   "cell_type": "code",
   "execution_count": 3,
   "id": "16890687",
   "metadata": {},
   "outputs": [],
   "source": [
    "lins = dc.getLocalLineages(128)[:10]\n",
    "dataset_hps = DatasetHPs(lineages=lins,\n",
    "                         frag_len=256,\n",
    "                         kmer_size=20,\n",
    "                         n=192,\n",
    "                         validation_split=0.2)"
   ]
  },
  {
   "cell_type": "code",
   "execution_count": 4,
   "id": "130882ff",
   "metadata": {},
   "outputs": [],
   "source": [
    "covit_proj = CovitProject(project_name=\"dummy\",\n",
    "                          data_collector=dc)"
   ]
  },
  {
   "cell_type": "code",
   "execution_count": 5,
   "id": "2a546acd",
   "metadata": {},
   "outputs": [
    {
     "name": "stderr",
     "output_type": "stream",
     "text": [
      "2022-07-05 17:30:13.375780: E tensorflow/stream_executor/cuda/cuda_driver.cc:271] failed call to cuInit: CUDA_ERROR_NO_DEVICE: no CUDA-capable device is detected\n",
      "2022-07-05 17:30:13.375882: I tensorflow/stream_executor/cuda/cuda_diagnostics.cc:169] retrieving CUDA diagnostic information for host: ZJ\n",
      "2022-07-05 17:30:13.375904: I tensorflow/stream_executor/cuda/cuda_diagnostics.cc:176] hostname: ZJ\n",
      "2022-07-05 17:30:13.376084: I tensorflow/stream_executor/cuda/cuda_diagnostics.cc:200] libcuda reported version is: 510.73.5\n",
      "2022-07-05 17:30:13.376160: I tensorflow/stream_executor/cuda/cuda_diagnostics.cc:204] kernel reported version is: 510.73.5\n",
      "2022-07-05 17:30:13.376181: I tensorflow/stream_executor/cuda/cuda_diagnostics.cc:310] kernel version seems to match DSO: 510.73.5\n",
      "2022-07-05 17:30:13.377262: I tensorflow/core/platform/cpu_feature_guard.cc:151] This TensorFlow binary is optimized with oneAPI Deep Neural Network Library (oneDNN) to use the following CPU instructions in performance-critical operations:  AVX2 FMA\n",
      "To enable them in other operations, rebuild TensorFlow with the appropriate compiler flags.\n"
     ]
    }
   ],
   "source": [
    "nnmodel_hps = NNModelHPs(encoder_repeats=4,\n",
    "                         classes=10,\n",
    "                         d_model=256, # Need to fix it to be equal to frag_len\n",
    "                         d_val=64,\n",
    "                         d_key=64,\n",
    "                         d_ff=1024,\n",
    "                         heads=12,\n",
    "                         dropout_rate=0.1)\n",
    "covit_proj.addNNModel(\"nn2\",nnmodel_hps)"
   ]
  },
  {
   "cell_type": "code",
   "execution_count": null,
   "id": "584b6c2e",
   "metadata": {},
   "outputs": [
    {
     "name": "stdout",
     "output_type": "stream",
     "text": [
      "Epoch 1/20\n",
      " 7/31 [=====>........................] - ETA: 1:20 - loss: 3.8869 - top1_accuracy: 0.1317 - top2_accuracy: 0.2746 - top5_accuracy: 0.7411"
     ]
    }
   ],
   "source": [
    "covit_proj.train(name='nn2',\n",
    "                 epochs=20,\n",
    "                 batch_size=64)"
   ]
  },
  {
   "cell_type": "code",
   "execution_count": null,
   "id": "46a3e0de",
   "metadata": {},
   "outputs": [],
   "source": []
  }
 ],
 "metadata": {
  "kernelspec": {
   "display_name": "Python 3 (ipykernel)",
   "language": "python",
   "name": "python3"
  },
  "language_info": {
   "codemirror_mode": {
    "name": "ipython",
    "version": 3
   },
   "file_extension": ".py",
   "mimetype": "text/x-python",
   "name": "python",
   "nbconvert_exporter": "python",
   "pygments_lexer": "ipython3",
   "version": "3.8.5"
  }
 },
 "nbformat": 4,
 "nbformat_minor": 5
}
