{
 "cells": [
  {
   "cell_type": "code",
   "execution_count": 1,
   "id": "1038db40",
   "metadata": {},
   "outputs": [],
   "source": [
    "from DataCollector import DataCollectorv2\n",
    "from Dataset import DatasetHPs\n",
    "from NNModel import NNModelHPs\n",
    "from covit import CovitProject"
   ]
  },
  {
   "cell_type": "code",
   "execution_count": 2,
   "id": "7d64e82b",
   "metadata": {},
   "outputs": [
    {
     "name": "stdout",
     "output_type": "stream",
     "text": [
      "Building Data frame\n",
      "Done building Data frame\n",
      "Building remote dicts\n",
      "Done building remote dicts\n",
      "Building local dicts\n",
      "Done building local dicts\n"
     ]
    }
   ],
   "source": [
    "dc = DataCollectorv2()"
   ]
  },
  {
   "cell_type": "code",
   "execution_count": 4,
   "id": "130882ff",
   "metadata": {},
   "outputs": [],
   "source": [
    "covit375 = CovitProject(project_name=\"375Lins\",\n",
    "                          data_collector=dc)"
   ]
  },
  {
   "cell_type": "code",
   "execution_count": 8,
   "id": "2a546acd",
   "metadata": {},
   "outputs": [],
   "source": [
    "from Dataset import DatasetHPsV2\n",
    "hps = covit375.dataset.hps\n",
    "new_hps = DatasetHPsV2(\n",
    "    hps.lineages,\n",
    "    1024,\n",
    "    hps.frag_len,\n",
    "    hps.kmer_size,\n",
    "    hps.n,\n",
    "    hps.validation_split\n",
    ")\n",
    "new_hps.save(\"./\")"
   ]
  },
  {
   "cell_type": "code",
   "execution_count": null,
   "id": "584b6c2e",
   "metadata": {},
   "outputs": [],
   "source": [
    "covit_proj.train(name='nn-d',\n",
    "                 epochs=1,\n",
    "                 batch_size=64)"
   ]
  },
  {
   "cell_type": "code",
   "execution_count": null,
   "id": "3080be97",
   "metadata": {},
   "outputs": [],
   "source": [
    "covit_proj.name_nnmodel_map['nn-d'].nn.N"
   ]
  },
  {
   "cell_type": "code",
   "execution_count": null,
   "id": "e5e02d9c",
   "metadata": {},
   "outputs": [],
   "source": [
    "covit_proj.name_nnmodel_map['nn-d'].deepenNN()\n",
    "covit_proj.train(name='nn-d',\n",
    "                 epochs=1,\n",
    "                 batch_size=64)"
   ]
  },
  {
   "cell_type": "code",
   "execution_count": null,
   "id": "82b8479d",
   "metadata": {},
   "outputs": [],
   "source": [
    "covit_proj.name_nnmodel_map['nn-d'].nn.summary()"
   ]
  },
  {
   "cell_type": "code",
   "execution_count": null,
   "id": "748871b3",
   "metadata": {},
   "outputs": [],
   "source": [
    "res = covit_proj.getResults('nn-d')"
   ]
  },
  {
   "cell_type": "code",
   "execution_count": null,
   "id": "63bbb43e",
   "metadata": {},
   "outputs": [],
   "source": [
    "print(res.getPerf())"
   ]
  },
  {
   "cell_type": "code",
   "execution_count": null,
   "id": "74d23010",
   "metadata": {},
   "outputs": [],
   "source": []
  }
 ],
 "metadata": {
  "kernelspec": {
   "display_name": "Python 3 (ipykernel)",
   "language": "python",
   "name": "python3"
  },
  "language_info": {
   "codemirror_mode": {
    "name": "ipython",
    "version": 3
   },
   "file_extension": ".py",
   "mimetype": "text/x-python",
   "name": "python",
   "nbconvert_exporter": "python",
   "pygments_lexer": "ipython3",
   "version": "3.8.10"
  }
 },
 "nbformat": 4,
 "nbformat_minor": 5
}
