{
 "cells": [
  {
   "cell_type": "code",
   "execution_count": 1,
   "id": "1038db40",
   "metadata": {},
   "outputs": [],
   "source": [
    "from DataCollector import DataCollectorv2\n",
    "from Dataset import DatasetHPs\n",
    "from NNModel import NNModelHPs\n",
    "from covit import CovitProject"
   ]
  },
  {
   "cell_type": "code",
   "execution_count": 2,
   "id": "7d64e82b",
   "metadata": {},
   "outputs": [
    {
     "name": "stdout",
     "output_type": "stream",
     "text": [
      "Building Data frame\n",
      "Done building Data frame\n",
      "Building remote dicts\n",
      "Done building remote dicts\n",
      "Building local dicts\n",
      "Done building local dicts\n"
     ]
    }
   ],
   "source": [
    "dc = DataCollectorv2()"
   ]
  },
  {
   "cell_type": "code",
   "execution_count": 3,
   "id": "130882ff",
   "metadata": {},
   "outputs": [],
   "source": [
    "covit375 = CovitProject(project_name=\"107Lins\",\n",
    "                        data_collector=dc)"
   ]
  },
  {
   "cell_type": "code",
   "execution_count": 5,
   "id": "584b6c2e",
   "metadata": {},
   "outputs": [
    {
     "name": "stderr",
     "output_type": "stream",
     "text": [
      "2022-07-12 14:50:49.375691: I tensorflow/core/platform/cpu_feature_guard.cc:193] This TensorFlow binary is optimized with oneAPI Deep Neural Network Library (oneDNN) to use the following CPU instructions in performance-critical operations:  AVX2 FMA\n",
      "To enable them in other operations, rebuild TensorFlow with the appropriate compiler flags.\n",
      "2022-07-12 14:50:49.737774: I tensorflow/core/common_runtime/gpu/gpu_device.cc:1532] Created device /job:localhost/replica:0/task:0/device:GPU:0 with 9986 MB memory:  -> device: 0, name: NVIDIA GeForce GTX 1080 Ti, pci bus id: 0000:01:00.0, compute capability: 6.1\n"
     ]
    }
   ],
   "source": [
    "nnmodel_hps = NNModelHPs(\n",
    "    encoder_repeats = 2,\n",
    "    classes = len(covit375.dataset.getLineages()),\n",
    "    d_model = covit375.dataset.hps.frag_len,\n",
    "    d_val = 96,\n",
    "    d_key = 96,\n",
    "    d_ff = 1536,\n",
    "    heads = 16,\n",
    "    dropout_rate = 0.1\n",
    ")\n",
    "\n",
    "covit375.addNNModel(name=\"nn1\",\n",
    "                    nnmodel_hps=nnmodel_hps)"
   ]
  },
  {
   "cell_type": "code",
   "execution_count": null,
   "id": "e5e02d9c",
   "metadata": {},
   "outputs": [
    {
     "name": "stderr",
     "output_type": "stream",
     "text": [
      "2022-07-12 14:51:17.193654: I tensorflow/stream_executor/cuda/cuda_dnn.cc:384] Loaded cuDNN version 8401\n"
     ]
    },
    {
     "name": "stdout",
     "output_type": "stream",
     "text": [
      " 48/912 [>.............................] - ETA: 8:27 - loss: 465.0848 - top1_accuracy: 0.0158 - top2_accuracy: 0.0305 - top5_accuracy: 0.0745"
     ]
    }
   ],
   "source": [
    "covit375.train(name='nn1',\n",
    "               epochs=1,\n",
    "               batch_size=192)"
   ]
  },
  {
   "cell_type": "code",
   "execution_count": null,
   "id": "74d23010",
   "metadata": {
    "scrolled": false
   },
   "outputs": [],
   "source": [
    "covit375.evaluate(name=\"nn1\",batch_size=192)"
   ]
  },
  {
   "cell_type": "code",
   "execution_count": null,
   "id": "fdcfa4b7",
   "metadata": {},
   "outputs": [],
   "source": [
    "covit375.getResults(\"nn1\").getPerf()"
   ]
  },
  {
   "cell_type": "code",
   "execution_count": null,
   "id": "4c5764b8",
   "metadata": {},
   "outputs": [],
   "source": [
    "covit375.deepenNN('nn3')\n",
    "covit375.deepenNN('nn3', trainable=True)\n",
    "covit375.train(name='nn3',\n",
    "               epochs=22,\n",
    "               batch_size=128)"
   ]
  },
  {
   "cell_type": "code",
   "execution_count": null,
   "id": "a7508ea0",
   "metadata": {},
   "outputs": [],
   "source": []
  }
 ],
 "metadata": {
  "kernelspec": {
   "display_name": "Python 3 (ipykernel)",
   "language": "python",
   "name": "python3"
  },
  "language_info": {
   "codemirror_mode": {
    "name": "ipython",
    "version": 3
   },
   "file_extension": ".py",
   "mimetype": "text/x-python",
   "name": "python",
   "nbconvert_exporter": "python",
   "pygments_lexer": "ipython3",
   "version": "3.8.10"
  }
 },
 "nbformat": 4,
 "nbformat_minor": 5
}
