{
 "cells": [
  {
   "cell_type": "code",
   "execution_count": 5,
   "id": "d236c6a0",
   "metadata": {},
   "outputs": [],
   "source": [
    "from CoViT import CoViT"
   ]
  },
  {
   "cell_type": "code",
   "execution_count": 102,
   "id": "5c59d89c",
   "metadata": {},
   "outputs": [],
   "source": [
    "covit = CoViT(lineages=[\"omicron\", \"B.1.1.7\"],\n",
    "              dataset_size=\"tiny\")"
   ]
  },
  {
   "cell_type": "code",
   "execution_count": 90,
   "id": "bad548fd",
   "metadata": {},
   "outputs": [
    {
     "name": "stdout",
     "output_type": "stream",
     "text": [
      "        acc    lineage cross_references collection_date country center_name  \\\n",
      "0  BS000685      B.1.1              NaN        20200406   Japan         NaN   \n",
      "1  BS000686  B.1.1.285              NaN        20200406   Japan         NaN   \n",
      "2  BS000687  B.1.1.285              NaN        20200406   Japan         NaN   \n",
      "3  BS000688  B.1.1.285              NaN        20200406   Japan         NaN   \n",
      "4  BS000689  B.1.1.285              NaN        20200406   Japan         NaN   \n",
      "\n",
      "           host    TAXON    coverage phylogeny  \n",
      "0  Homo sapiens  2697049   99.996640       NaN  \n",
      "1  Homo sapiens  2697049   99.996640       NaN  \n",
      "2  Homo sapiens  2697049   99.912700       NaN  \n",
      "3  Homo sapiens  2697049   99.264656       NaN  \n",
      "4  Homo sapiens  2697049  100.000000       NaN  \n"
     ]
    }
   ],
   "source": [
    "print(covit.acc_df.head(5))"
   ]
  },
  {
   "cell_type": "code",
   "execution_count": 58,
   "id": "fc132bb8",
   "metadata": {},
   "outputs": [
    {
     "name": "stdout",
     "output_type": "stream",
     "text": [
      "['6' '5' '7' '1' '9' '10' '13' '12' '4' '8' '3' '11' '2']\n"
     ]
    }
   ],
   "source": [
    "import numpy as np\n",
    "\n",
    "print(rs.permutation([\"1\", \"2\", \"3\",\n",
    "                             \"4\", \"5\", \"6\",\n",
    "                             \"7\", \"8\", \"9\",\n",
    "                             \"10\", \"11\", \"12\", \"13\"]))"
   ]
  },
  {
   "cell_type": "code",
   "execution_count": 104,
   "id": "d09a9eb0",
   "metadata": {
    "scrolled": true
   },
   "outputs": [],
   "source": [
    "lineages = [\"B.1.1\", \"B.1.1.7\"]\n",
    "df = covit.acc_df.copy()"
   ]
  },
  {
   "cell_type": "code",
   "execution_count": 106,
   "id": "db86ee5a",
   "metadata": {},
   "outputs": [
    {
     "name": "stdout",
     "output_type": "stream",
     "text": [
      "0              B.1.1\n",
      "1          B.1.1.285\n",
      "2          B.1.1.285\n",
      "3          B.1.1.285\n",
      "4          B.1.1.285\n",
      "             ...    \n",
      "4481133         BA.2\n",
      "4481134         BA.2\n",
      "4481135         BA.2\n",
      "4481136         BA.2\n",
      "4481137            B\n",
      "Name: lineage, Length: 4434313, dtype: object\n"
     ]
    }
   ],
   "source": [
    "#l = df['lineage'].values\n",
    "#A = [any([lin_in_df == lin_in_lineages for lin_in_lineages in lineages]) for lin_in_df in l]\n",
    "df.dropna(subset=['acc', 'lineage'], inplace =True)\n",
    "print(df['lineage'])"
   ]
  },
  {
   "cell_type": "code",
   "execution_count": 98,
   "id": "559e831d",
   "metadata": {},
   "outputs": [
    {
     "name": "stdout",
     "output_type": "stream",
     "text": [
      "False\n"
     ]
    }
   ],
   "source": [
    "print(A[255])"
   ]
  },
  {
   "cell_type": "code",
   "execution_count": null,
   "id": "e00454c9",
   "metadata": {},
   "outputs": [],
   "source": []
  }
 ],
 "metadata": {
  "kernelspec": {
   "display_name": "Python 3 (ipykernel)",
   "language": "python",
   "name": "python3"
  },
  "language_info": {
   "codemirror_mode": {
    "name": "ipython",
    "version": 3
   },
   "file_extension": ".py",
   "mimetype": "text/x-python",
   "name": "python",
   "nbconvert_exporter": "python",
   "pygments_lexer": "ipython3",
   "version": "3.8.5"
  }
 },
 "nbformat": 4,
 "nbformat_minor": 5
}
