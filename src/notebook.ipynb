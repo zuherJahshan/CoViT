{
 "cells": [
  {
   "cell_type": "code",
   "execution_count": null,
   "id": "e00454c9",
   "metadata": {},
   "outputs": [],
   "source": [
    "import numpy as np\n",
    "from Genome import hashlib_hasher"
   ]
  },
  {
   "cell_type": "code",
   "execution_count": null,
   "id": "6cc6bdb1",
   "metadata": {},
   "outputs": [],
   "source": [
    "A = np.zeros(shape=(256, 256, 4))\n",
    "print(hashlib_hasher(A))"
   ]
  },
  {
   "cell_type": "code",
   "execution_count": null,
   "id": "3d66e86c",
   "metadata": {},
   "outputs": [],
   "source": []
  }
 ],
 "metadata": {
  "kernelspec": {
   "display_name": "Python 3 (ipykernel)",
   "language": "python",
   "name": "python3"
  },
  "language_info": {
   "codemirror_mode": {
    "name": "ipython",
    "version": 3
   },
   "file_extension": ".py",
   "mimetype": "text/x-python",
   "name": "python",
   "nbconvert_exporter": "python",
   "pygments_lexer": "ipython3",
   "version": "3.8.5"
  }
 },
 "nbformat": 4,
 "nbformat_minor": 5
}
