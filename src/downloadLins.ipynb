{
 "cells": [
  {
   "cell_type": "code",
   "execution_count": null,
   "id": "1038db40",
   "metadata": {},
   "outputs": [],
   "source": [
    "import tensorflow as tf\n",
    "\n",
    "from DataCollector import DataCollectorv2\n",
    "from Dataset import DatasetHPs\n",
    "from NNModel import NNModelHPs\n",
    "from covit import CovitProject"
   ]
  },
  {
   "cell_type": "code",
   "execution_count": null,
   "id": "7d64e82b",
   "metadata": {},
   "outputs": [],
   "source": [
    "dc = DataCollectorv2()"
   ]
  },
  {
   "cell_type": "code",
   "execution_count": null,
   "id": "2a546acd",
   "metadata": {},
   "outputs": [],
   "source": [
    "dc.downloadLineages(accs_thresh=256,\n",
    "                    max_accs=1024)"
   ]
  },
  {
   "cell_type": "code",
   "execution_count": null,
   "id": "4cd33387",
   "metadata": {},
   "outputs": [],
   "source": [
    "lins = dc.getLocalLineages(256)\n",
    "print(len(lins))"
   ]
  },
  {
   "cell_type": "code",
   "execution_count": null,
   "id": "174ea9ed",
   "metadata": {},
   "outputs": [],
   "source": [
    "dataset_hps = DatasetHPs(\n",
    "    lineages=lins,\n",
    "    max_accs_per_lineage=1024,\n",
    "    frag_len=256,\n",
    "    kmer_size=16,\n",
    "    n=256,\n",
    "    validation_split=0.05\n",
    ")"
   ]
  },
  {
   "cell_type": "code",
   "execution_count": null,
   "id": "cd850b0d",
   "metadata": {},
   "outputs": [],
   "source": [
    "covit_proj = CovitProject(\n",
    "    project_name=\"375Lins\",\n",
    "    data_collector=dc,\n",
    "    dataset_hps=dataset_hps\n",
    ")"
   ]
  },
  {
   "cell_type": "code",
   "execution_count": null,
   "id": "799d1340",
   "metadata": {},
   "outputs": [],
   "source": []
  }
 ],
 "metadata": {
  "kernelspec": {
   "display_name": "Python 3 (ipykernel)",
   "language": "python",
   "name": "python3"
  },
  "language_info": {
   "codemirror_mode": {
    "name": "ipython",
    "version": 3
   },
   "file_extension": ".py",
   "mimetype": "text/x-python",
   "name": "python",
   "nbconvert_exporter": "python",
   "pygments_lexer": "ipython3",
   "version": "3.8.10"
  }
 },
 "nbformat": 4,
 "nbformat_minor": 5
}
