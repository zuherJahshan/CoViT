{
 "cells": [
  {
   "cell_type": "code",
   "execution_count": 3,
   "id": "1038db40",
   "metadata": {},
   "outputs": [],
   "source": [
    "import tensorflow as tf\n",
    "\n",
    "from DataCollector import DataCollectorv2\n",
    "from Dataset import DatasetHPs\n",
    "from NNModel import NNModelHPs\n",
    "from covit import CovitProject"
   ]
  },
  {
   "cell_type": "code",
   "execution_count": 4,
   "id": "7d64e82b",
   "metadata": {},
   "outputs": [
    {
     "name": "stdout",
     "output_type": "stream",
     "text": [
      "Building Data frame\n",
      "Done building Data frame\n",
      "Building remote dicts\n",
      "Done building remote dicts\n",
      "Building local dicts\n",
      "Done building local dicts\n"
     ]
    }
   ],
   "source": [
    "dc = DataCollectorv2()"
   ]
  },
  {
   "cell_type": "code",
   "execution_count": 8,
   "id": "2a546acd",
   "metadata": {},
   "outputs": [
    {
     "name": "stdout",
     "output_type": "stream",
     "text": [
      "java -jar cdp-file-downloader.jar --domain=VIRAL_SEQUENCES --datatype=SEQUENCES --format=FASTA --location=../data/tmp/ --email=NONE --accessions=OM181170,OK659469,MZ910409,MZ911139,MW064344,MZ866127,OL913021,OL817033,OL905873,OU367941,MZ024354,MT873463,FR994413,OM247780,OA964974,OK465913,OA980237,MW738403,OU793253,OM062572,LR860621,MW566862,OK425542,MW903517,MW751208,MW766824,MW065043,MW190394,OL313358,MT451833,OK435762,MW190700,MW547420,OU365666,MW776802,OK655187,MW885905,OL313872,MT370846,OL807082,MT810930,OU072009,MW593446,MT371029,MT627749,MT892996,OL756750,ON167742,OL905818,LR877942,OU278662,MT844029,MW882635,MW190851,OU182501,OK221308,MT821750,FR994433,LR877898,OM170560,OK401653,OU182400,OL756443,MW053927,FR998484,OL756964,MT810535,MZ473413,OU281091,MZ002773,MW305251,OK557530,MW190936,MW943843,MT450986,OA964263,MZ842841,OU183819,MT873111,GWHAOJO01000001,MT806783,LR824463,MW985880,MT506661,MT947155,OA979472,FR991048,MW987028,MW286535,FR994359,OK546903,OL314030,OK557430,OK425530,OM757326,FR999824,MT641714,MT470173,MT451689,OW306279,MW190687,OA975107,OA964293,OU162784,OM485148,MW634962,OL792713,ON074428,ON065649,OA965661,MT326119,OM063528,OK435279,MT811750,OU163138,MZ906921,MT706241,OM831445,OU183210,OU279952,OM247996,MW420607,MT873168,OK559002,MW064421,MW923929,OL314128,FR990260 --protocol=FTP --asperaLocation=null\n",
      "\n",
      "             #. ///////////////////       @@@@@@@      @@@@@@@@   @@@@    @@@    @@@@   @@@@@@@@@             @@@    @@@@@@@@\n",
      "        ###. #. /.   /////////////      @@@@  @@@@    @@@   @@@   @@@@   @@@    @@@@   @@@@  @@@@           @@@@   @@@   @@@@\n",
      "    #### #####.     /    /////////     @@@@          @@@    @@@   @@@@  @@@    @@@@   @@@@   @@@@          @@@@  @@@@   @@@@\n",
      "  ##  ########.        //  //////      @@@@         @@@@   @@@@   @@@@ @@@    @@@@   @@@@   @@@@   @@@@@  @@@@  @@@@@@@@@@@\n",
      " #############.             /////      @@@@   @@@   @@@    @@@    @@@@@@@    @@@@   @@@@   @@@@          @@@@         @@@\n",
      "(#############.             ////       @@@@ @@@@    @@@   @@@     @@@@@@    @@@@   @@@@@@@@@@           @@@@   @@@@  @@@\n",
      "(#############.          .  ////        @@@@@@@     @@@@@@@@      @@@@@    @@@@   @@@@@@@@@            @@@@    @@@@@@@@\n",
      " #############.             ///                                                                                              \n",
      "  ##  ########.        //  ////        ######    ##  #####  ##      #####   ####  #####  #####  ##    #\n",
      "    #### #####.     /    /////,        #    #   ###   ##   # #      #   #  #   #  #   #   #    # #   #\n",
      "        ###. #. /.   /////////         #    #  #  #   #   #  #     #####  #   #  ## ##   #    #  #  #\n",
      "             #, //////////////        ######  #   #  ##  #   #    #      ### #  #   #   #    #   # ####\n",
      "\n",
      " (Copyright © EMBL 2021)\n",
      "\n",
      "Welcome to the Covid-19 Data Portal's data downloader utility!\n",
      "----------------------------------------------\n"
     ]
    },
    {
     "name": "stderr",
     "output_type": "stream",
     "text": [
      "\r",
      "Downloading   ? % [  =                                                        ] 0/?MB (0:00:00 / ?) \n"
     ]
    },
    {
     "name": "stdout",
     "output_type": "stream",
     "text": [
      "Download completed to ../data/tmp//viral_sequences/sequences/fasta/20220802-1624.fasta.\n",
      "java -jar cdp-file-downloader.jar --domain=VIRAL_SEQUENCES --datatype=SEQUENCES --format=FASTA --location=../data/tmp/ --email=NONE --accessions=OL816359,OD907365,MT614465,MW882609,OU175695,OU183125,MW645750,MW064552,MZ313099,MW064829,MW974386,MZ906069,MW706476,OK630536,OU811089,OK557279,MT956692,MW190975,OU008651,GWHAOOA01000001,OK557599,OU172394,MW973435,MT831254,OM739107,MW923339,OK659230,MT791917,OK598492,OA976281,OL803717,OL817250,OL812347,MT706444,LR794501,MT706225,MZ906785,MW751206,OM015842,OL905372,OK653511,MW973150,OK467615,OL817203,MW562269,MZ003085,MZ917700,OK557449,OA990129,MW565732,OU278372,OU180950,MZ970761,MT444587,FR995249,OM254406,MT451237,MW593742,OU162923,OA981272,MT506905,MW969021,MZ907073,MW902712,MW494192,MT470154,OU182853,LR898606,OA993443,MZ909663,OA980564,OK598718,MW191136,OA971474,MW065088,MW341847,OD902273,OK466196,MW284575,OA971452,MW323000,MW871044,LR877893,OL691505,MT577606,OU390319,MT370944,OL756467,OU280413,MT429190,OA977976,OK559117,MZ730682,OL969447,OU802410,MW436731,MZ906040,OL905406,MT334569,OU121165,MW751284,MW599615,MW921664,MW206627,MZ202475,MT646105,MW053726,OL314090,OA966168,MT873270,OL334782,MT679162,OM898161,OD915203,MT873853,MW505327,LR881571,MW346358,OL321523,OU180899,MW191308,OK449066,OK598350,OV081756,OU800548,MZ780933,MW987516,OU281053 --protocol=FTP --asperaLocation=null\n",
      "\n",
      "             #. ///////////////////       @@@@@@@      @@@@@@@@   @@@@    @@@    @@@@   @@@@@@@@@             @@@    @@@@@@@@\n",
      "        ###. #. /.   /////////////      @@@@  @@@@    @@@   @@@   @@@@   @@@    @@@@   @@@@  @@@@           @@@@   @@@   @@@@\n",
      "    #### #####.     /    /////////     @@@@          @@@    @@@   @@@@  @@@    @@@@   @@@@   @@@@          @@@@  @@@@   @@@@\n",
      "  ##  ########.        //  //////      @@@@         @@@@   @@@@   @@@@ @@@    @@@@   @@@@   @@@@   @@@@@  @@@@  @@@@@@@@@@@\n",
      " #############.             /////      @@@@   @@@   @@@    @@@    @@@@@@@    @@@@   @@@@   @@@@          @@@@         @@@\n",
      "(#############.             ////       @@@@ @@@@    @@@   @@@     @@@@@@    @@@@   @@@@@@@@@@           @@@@   @@@@  @@@\n",
      "(#############.          .  ////        @@@@@@@     @@@@@@@@      @@@@@    @@@@   @@@@@@@@@            @@@@    @@@@@@@@\n",
      " #############.             ///                                                                                              \n",
      "  ##  ########.        //  ////        ######    ##  #####  ##      #####   ####  #####  #####  ##    #\n",
      "    #### #####.     /    /////,        #    #   ###   ##   # #      #   #  #   #  #   #   #    # #   #\n",
      "        ###. #. /.   /////////         #    #  #  #   #   #  #     #####  #   #  ## ##   #    #  #  #\n",
      "             #, //////////////        ######  #   #  ##  #   #    #      ### #  #   #   #    #   # ####\n",
      "\n",
      " (Copyright © EMBL 2021)\n",
      "\n",
      "Welcome to the Covid-19 Data Portal's data downloader utility!\n",
      "----------------------------------------------\n"
     ]
    },
    {
     "name": "stderr",
     "output_type": "stream",
     "text": [
      "\r",
      "Downloading   ? % [  =                                                        ] 0/?MB (0:00:00 / ?) \n"
     ]
    },
    {
     "name": "stdout",
     "output_type": "stream",
     "text": [
      "Download completed to ../data/tmp//viral_sequences/sequences/fasta/20220802-1624.fasta.\n"
     ]
    }
   ],
   "source": [
    "dc.downloadLineages(accs_thresh=2048,\n",
    "                    max_accs=2048)"
   ]
  },
  {
   "cell_type": "code",
   "execution_count": 14,
   "id": "4cd33387",
   "metadata": {},
   "outputs": [
    {
     "name": "stdout",
     "output_type": "stream",
     "text": [
      "107\n"
     ]
    }
   ],
   "source": [
    "lins = dc.getLocalLineages(2000)\n",
    "print(len(lins))"
   ]
  },
  {
   "cell_type": "code",
   "execution_count": 15,
   "id": "174ea9ed",
   "metadata": {},
   "outputs": [],
   "source": [
    "dataset_hps = DatasetHPs(\n",
    "    lineages=lins,\n",
    "    max_accs_per_lineage=2048,\n",
    "    frag_len=256,\n",
    "    kmer_size=16,\n",
    "    n=256,\n",
    "    validation_split=0.2\n",
    ")"
   ]
  },
  {
   "cell_type": "code",
   "execution_count": 16,
   "id": "cd850b0d",
   "metadata": {},
   "outputs": [
    {
     "name": "stderr",
     "output_type": "stream",
     "text": [
      "2022-08-02 16:26:11.761463: I tensorflow/core/platform/cpu_feature_guard.cc:193] This TensorFlow binary is optimized with oneAPI Deep Neural Network Library (oneDNN) to use the following CPU instructions in performance-critical operations:  AVX2 FMA\n",
      "To enable them in other operations, rebuild TensorFlow with the appropriate compiler flags.\n",
      "2022-08-02 16:26:12.103560: I tensorflow/core/common_runtime/gpu/gpu_device.cc:1532] Created device /job:localhost/replica:0/task:0/device:GPU:0 with 9195 MB memory:  -> device: 0, name: NVIDIA GeForce RTX 2080 Ti, pci bus id: 0000:01:00.0, compute capability: 7.5\n"
     ]
    },
    {
     "name": "stdout",
     "output_type": "stream",
     "text": [
      "Started serializing AY.100\n",
      "Started serializing AY.102\n",
      "Started serializing AY.103\n",
      "Started serializing AY.110\n",
      "Started serializing AY.111\n",
      "Started serializing AY.112\n",
      "Started serializing AY.113\n",
      "Started serializing AY.114\n",
      "Started serializing AY.116.1\n",
      "Started serializing AY.117\n",
      "Started serializing AY.118\n",
      "Started serializing AY.119\n",
      "Started serializing AY.119.2\n",
      "Started serializing AY.120\n",
      "Started serializing AY.121\n",
      "Started serializing AY.122\n",
      "Started serializing AY.125\n",
      "Started serializing AY.126\n",
      "Started serializing AY.127\n",
      "Started serializing AY.129\n",
      "Started serializing AY.13\n",
      "Started serializing AY.14\n",
      "Started serializing AY.20\n",
      "Started serializing AY.25\n",
      "Started serializing AY.25.1\n",
      "Started serializing AY.26\n",
      "Started serializing AY.3\n",
      "Started serializing AY.3.1\n",
      "Started serializing AY.33\n",
      "Started serializing AY.34\n",
      "Started serializing AY.34.1\n",
      "Started serializing AY.36\n",
      "Started serializing AY.36.1\n",
      "Started serializing AY.39\n",
      "Started serializing AY.39.1\n",
      "Started serializing AY.4\n",
      "Started serializing AY.4.2\n",
      "Started serializing AY.4.2.1\n",
      "Started serializing AY.4.2.2\n",
      "Started serializing AY.4.2.3\n",
      "Started serializing AY.4.6\n",
      "Started serializing AY.4.8\n",
      "Started serializing AY.42\n",
      "Started serializing AY.43\n",
      "Started serializing AY.43.4\n",
      "Started serializing AY.44\n",
      "Started serializing AY.46\n",
      "Started serializing AY.46.4\n",
      "Started serializing AY.46.6\n",
      "Started serializing AY.47\n",
      "Started serializing AY.5\n",
      "Started serializing AY.54\n",
      "Started serializing AY.6\n",
      "Started serializing AY.7\n",
      "Started serializing AY.7.1\n",
      "Started serializing AY.75\n",
      "Started serializing AY.9\n",
      "Started serializing AY.9.2\n",
      "Started serializing AY.98\n",
      "Started serializing AY.98.1\n",
      "Started serializing B\n",
      "Started serializing B.1.1\n",
      "Started serializing B.1.1.37\n",
      "Started serializing B.1.1.519\n",
      "Started serializing B.1.1.7\n",
      "Started serializing B.1.160\n",
      "Started serializing B.1.177\n",
      "Started serializing B.1.177.4\n",
      "Started serializing B.1.2\n",
      "Started serializing B.1.221\n",
      "Started serializing B.1.234\n",
      "Started serializing B.1.243\n",
      "Started serializing B.1.258\n",
      "Started serializing B.1.351\n",
      "Started serializing B.1.427\n",
      "Started serializing B.1.429\n",
      "Started serializing B.1.526\n",
      "Started serializing B.1.617.2\n",
      "Started serializing B.1.621\n",
      "Started serializing B.1.637\n",
      "Started serializing BA.1\n",
      "Started serializing BA.1.1\n",
      "Started serializing BA.1.1.1\n",
      "Started serializing BA.1.1.12\n",
      "Started serializing BA.1.1.13\n",
      "Started serializing BA.1.1.14\n",
      "Started serializing BA.1.1.15\n",
      "Started serializing BA.1.1.18\n",
      "Started serializing BA.1.1.2\n",
      "Started serializing BA.1.15\n",
      "Started serializing BA.1.15.1\n",
      "Started serializing BA.1.16\n",
      "Started serializing BA.1.17\n",
      "Started serializing BA.1.17.2\n",
      "Started serializing BA.1.18\n",
      "Started serializing BA.1.20\n",
      "Started serializing BA.2\n",
      "Started serializing BA.2.1\n",
      "Started serializing BA.2.10\n",
      "Started serializing BA.2.12.1\n",
      "Started serializing BA.2.23\n",
      "Started serializing BA.2.3\n",
      "Started serializing BA.2.9\n",
      "Started serializing D.2\n",
      "Started serializing P.1\n",
      "Started serializing P.1.17\n",
      "Started serializing Q.3\n"
     ]
    }
   ],
   "source": [
    "covit_proj = CovitProject(\n",
    "    project_name=\"107Lins\",\n",
    "    data_collector=dc,\n",
    "    dataset_hps=dataset_hps\n",
    ")"
   ]
  },
  {
   "cell_type": "code",
   "execution_count": null,
   "id": "799d1340",
   "metadata": {},
   "outputs": [],
   "source": []
  }
 ],
 "metadata": {
  "kernelspec": {
   "display_name": "Python 3 (ipykernel)",
   "language": "python",
   "name": "python3"
  },
  "language_info": {
   "codemirror_mode": {
    "name": "ipython",
    "version": 3
   },
   "file_extension": ".py",
   "mimetype": "text/x-python",
   "name": "python",
   "nbconvert_exporter": "python",
   "pygments_lexer": "ipython3",
   "version": "3.8.10"
  }
 },
 "nbformat": 4,
 "nbformat_minor": 5
}
