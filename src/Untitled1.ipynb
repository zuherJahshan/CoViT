{
 "cells": [
  {
   "cell_type": "code",
   "execution_count": 1,
   "id": "810aaf15",
   "metadata": {},
   "outputs": [],
   "source": [
    "from DataCollector import DataCollectorv2\n",
    "from Dataset import DatasetHPs\n",
    "from NNModel import NNModelHPs\n",
    "from covit import CovitProject"
   ]
  },
  {
   "cell_type": "code",
   "execution_count": 2,
   "id": "dee6b471",
   "metadata": {},
   "outputs": [
    {
     "name": "stdout",
     "output_type": "stream",
     "text": [
      "Building Data frame\n",
      "Done building Data frame\n",
      "Building remote dicts\n",
      "Done building remote dicts\n",
      "Building local dicts\n",
      "Done building local dicts\n"
     ]
    }
   ],
   "source": [
    "dc = DataCollectorv2()"
   ]
  },
  {
   "cell_type": "code",
   "execution_count": 5,
   "id": "50424661",
   "metadata": {},
   "outputs": [
    {
     "name": "stdout",
     "output_type": "stream",
     "text": [
      "375\n"
     ]
    }
   ],
   "source": [
    "lins = dc.getLocalLineages(0)\n",
    "print(len(lins))"
   ]
  },
  {
   "cell_type": "code",
   "execution_count": null,
   "id": "7480ef95",
   "metadata": {},
   "outputs": [],
   "source": []
  }
 ],
 "metadata": {
  "kernelspec": {
   "display_name": "Python 3 (ipykernel)",
   "language": "python",
   "name": "python3"
  },
  "language_info": {
   "codemirror_mode": {
    "name": "ipython",
    "version": 3
   },
   "file_extension": ".py",
   "mimetype": "text/x-python",
   "name": "python",
   "nbconvert_exporter": "python",
   "pygments_lexer": "ipython3",
   "version": "3.8.10"
  }
 },
 "nbformat": 4,
 "nbformat_minor": 5
}
