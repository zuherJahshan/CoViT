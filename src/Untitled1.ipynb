{
 "cells": [
  {
   "cell_type": "code",
   "execution_count": 1,
   "id": "810aaf15",
   "metadata": {},
   "outputs": [],
   "source": [
    "from DataCollector import DataCollectorv2\n",
    "from Dataset import DatasetHPs\n",
    "from NNModel import NNModelHPs\n",
    "from covit import CovitProject\n",
    "import os\n",
    "os.environ[\"CUDA_VISIBLE_DEVICES\"] = '-1'"
   ]
  },
  {
   "cell_type": "code",
   "execution_count": 2,
   "id": "dee6b471",
   "metadata": {},
   "outputs": [
    {
     "name": "stdout",
     "output_type": "stream",
     "text": [
      "Building Data frame\n",
      "Done building Data frame\n",
      "Building remote dicts\n",
      "Done building remote dicts\n",
      "Building local dicts\n",
      "Done building local dicts\n"
     ]
    }
   ],
   "source": [
    "dc = DataCollectorv2()"
   ]
  },
  {
   "cell_type": "code",
   "execution_count": 3,
   "id": "33428473",
   "metadata": {},
   "outputs": [
    {
     "name": "stdout",
     "output_type": "stream",
     "text": [
      "131\n",
      "107\n"
     ]
    }
   ],
   "source": [
    "cnt = 0\n",
    "for lin in dc.remote_lin_accs_dict:\n",
    "    if len(dc.remote_lin_accs_dict[lin]) >= 2048:\n",
    "        cnt += 1\n",
    "print(cnt)\n",
    "dc.downloadLineages(2048,2048)\n",
    "\n",
    "lins = dc.getLocalLineages(2048)\n",
    "print(len(lins))"
   ]
  },
  {
   "cell_type": "code",
   "execution_count": 4,
   "id": "d8f3d67d",
   "metadata": {},
   "outputs": [
    {
     "name": "stderr",
     "output_type": "stream",
     "text": [
      "2022-07-12 07:13:16.652512: E tensorflow/stream_executor/cuda/cuda_driver.cc:271] failed call to cuInit: CUDA_ERROR_NO_DEVICE: no CUDA-capable device is detected\n",
      "2022-07-12 07:13:16.652549: I tensorflow/stream_executor/cuda/cuda_diagnostics.cc:169] retrieving CUDA diagnostic information for host: sipl-gpu7-u.staff.technion.ac.il\n",
      "2022-07-12 07:13:16.652557: I tensorflow/stream_executor/cuda/cuda_diagnostics.cc:176] hostname: sipl-gpu7-u.staff.technion.ac.il\n",
      "2022-07-12 07:13:16.652624: I tensorflow/stream_executor/cuda/cuda_diagnostics.cc:200] libcuda reported version is: 515.48.7\n",
      "2022-07-12 07:13:16.652649: I tensorflow/stream_executor/cuda/cuda_diagnostics.cc:204] kernel reported version is: 515.48.7\n",
      "2022-07-12 07:13:16.652656: I tensorflow/stream_executor/cuda/cuda_diagnostics.cc:310] kernel version seems to match DSO: 515.48.7\n",
      "2022-07-12 07:13:16.653088: I tensorflow/core/platform/cpu_feature_guard.cc:193] This TensorFlow binary is optimized with oneAPI Deep Neural Network Library (oneDNN) to use the following CPU instructions in performance-critical operations:  AVX2 FMA\n",
      "To enable them in other operations, rebuild TensorFlow with the appropriate compiler flags.\n"
     ]
    },
    {
     "name": "stdout",
     "output_type": "stream",
     "text": [
      "Started serializing AY.100\n",
      "Started serializing AY.102\n",
      "Started serializing AY.103\n",
      "Started serializing AY.110\n",
      "Started serializing AY.111\n",
      "Started serializing AY.112\n",
      "Started serializing AY.113\n",
      "Started serializing AY.114\n",
      "Started serializing AY.116.1\n",
      "Started serializing AY.117\n",
      "Started serializing AY.118\n",
      "Started serializing AY.119\n",
      "Started serializing AY.119.2\n",
      "Started serializing AY.120\n",
      "Started serializing AY.121\n",
      "Started serializing AY.122\n",
      "Started serializing AY.125\n",
      "Started serializing AY.126\n",
      "Started serializing AY.127\n",
      "Started serializing AY.129\n",
      "Started serializing AY.13\n",
      "Started serializing AY.14\n",
      "Started serializing AY.20\n",
      "Started serializing AY.25\n",
      "Started serializing AY.25.1\n",
      "Started serializing AY.26\n",
      "Started serializing AY.3\n",
      "Started serializing AY.3.1\n",
      "Started serializing AY.33\n",
      "Started serializing AY.34\n",
      "Started serializing AY.34.1\n",
      "Started serializing AY.36\n",
      "Started serializing AY.36.1\n",
      "Started serializing AY.39\n",
      "Started serializing AY.39.1\n",
      "Started serializing AY.4\n",
      "Started serializing AY.4.2\n",
      "Started serializing AY.4.2.1\n",
      "Started serializing AY.4.2.2\n",
      "Started serializing AY.4.2.3\n",
      "Started serializing AY.4.6\n",
      "Started serializing AY.4.8\n",
      "Started serializing AY.42\n",
      "Started serializing AY.43\n",
      "Started serializing AY.43.4\n",
      "Started serializing AY.44\n",
      "Started serializing AY.46\n",
      "Started serializing AY.46.4\n",
      "Started serializing AY.46.6\n",
      "Started serializing AY.47\n",
      "Started serializing AY.5\n",
      "Started serializing AY.54\n",
      "Started serializing AY.6\n",
      "Started serializing AY.7\n",
      "Started serializing AY.7.1\n",
      "Started serializing AY.75\n",
      "Started serializing AY.9\n",
      "Started serializing AY.9.2\n",
      "Started serializing AY.98\n",
      "Started serializing AY.98.1\n",
      "Started serializing B\n",
      "Started serializing B.1\n",
      "Started serializing B.1.1\n",
      "Started serializing B.1.1.37\n",
      "Started serializing B.1.1.519\n",
      "Started serializing B.1.1.7\n",
      "Started serializing B.1.160\n",
      "Started serializing B.1.177\n",
      "Started serializing B.1.2\n",
      "Started serializing B.1.221\n",
      "Started serializing B.1.234\n",
      "Started serializing B.1.243\n",
      "Started serializing B.1.258\n",
      "Started serializing B.1.351\n",
      "Started serializing B.1.427\n",
      "Started serializing B.1.429\n",
      "Started serializing B.1.526\n",
      "Started serializing B.1.617.2\n",
      "Started serializing B.1.621\n",
      "Started serializing B.1.637\n",
      "Started serializing BA.1\n",
      "Started serializing BA.1.1\n",
      "Started serializing BA.1.1.1\n",
      "Started serializing BA.1.1.12\n",
      "Started serializing BA.1.1.13\n",
      "Started serializing BA.1.1.14\n",
      "Started serializing BA.1.1.15\n",
      "Started serializing BA.1.1.18\n",
      "Started serializing BA.1.1.2\n",
      "Started serializing BA.1.15\n",
      "Started serializing BA.1.15.1\n",
      "Started serializing BA.1.16\n",
      "Started serializing BA.1.17\n",
      "Started serializing BA.1.17.2\n",
      "Started serializing BA.1.18\n",
      "Started serializing BA.1.20\n",
      "Started serializing BA.2\n",
      "Started serializing BA.2.1\n",
      "Started serializing BA.2.10\n",
      "Started serializing BA.2.12.1\n",
      "Started serializing BA.2.23\n",
      "Started serializing BA.2.3\n",
      "Started serializing BA.2.9\n",
      "Started serializing D.2\n",
      "Started serializing P.1\n",
      "Started serializing P.1.17\n",
      "Started serializing Q.3\n"
     ]
    }
   ],
   "source": [
    "dataset_hps = DatasetHPs(\n",
    "    lineages=lins,\n",
    "    max_accs_per_lineage=2048,\n",
    "    frag_len=256,\n",
    "    kmer_size=16,\n",
    "    n=256,\n",
    "    validation_split=0.2\n",
    ")\n",
    "\n",
    "covit_proj = CovitProject(\"107Lins\",\n",
    "                          dc,\n",
    "                          dataset_hps)"
   ]
  },
  {
   "cell_type": "code",
   "execution_count": null,
   "id": "b4aae2e1",
   "metadata": {},
   "outputs": [],
   "source": []
  }
 ],
 "metadata": {
  "kernelspec": {
   "display_name": "Python 3 (ipykernel)",
   "language": "python",
   "name": "python3"
  },
  "language_info": {
   "codemirror_mode": {
    "name": "ipython",
    "version": 3
   },
   "file_extension": ".py",
   "mimetype": "text/x-python",
   "name": "python",
   "nbconvert_exporter": "python",
   "pygments_lexer": "ipython3",
   "version": "3.8.10"
  }
 },
 "nbformat": 4,
 "nbformat_minor": 5
}
