{
 "cells": [
  {
   "cell_type": "code",
   "execution_count": 1,
   "id": "1038db40",
   "metadata": {},
   "outputs": [],
   "source": [
    "from DataCollector import DataCollectorv2\n",
    "from Dataset import DatasetHPs\n",
    "from NNModel import NNModelHPs\n",
    "from covit import CovitProject"
   ]
  },
  {
   "cell_type": "code",
   "execution_count": 2,
   "id": "7d64e82b",
   "metadata": {
    "scrolled": true
   },
   "outputs": [
    {
     "name": "stdout",
     "output_type": "stream",
     "text": [
      "Building Data frame\n",
      "Done building Data frame\n",
      "Building remote dicts\n",
      "Done building remote dicts\n",
      "Building local dicts\n",
      "Done building local dicts\n"
     ]
    }
   ],
   "source": [
    "dc = DataCollectorv2()"
   ]
  },
  {
   "cell_type": "code",
   "execution_count": 17,
   "id": "130882ff",
   "metadata": {},
   "outputs": [],
   "source": [
    "covit = CovitProject(project_name=\"375Lins\",\n",
    "                     data_collector=dc)"
   ]
  },
  {
   "cell_type": "code",
   "execution_count": 18,
   "id": "584b6c2e",
   "metadata": {
    "scrolled": true
   },
   "outputs": [],
   "source": [
    "transfer_learning = False\n",
    "\n",
    "change_pred_head = False\n",
    "\n",
    "deepen = False\n",
    "new_layers = 2\n",
    "\n",
    "load_existing = True\n",
    "\n",
    "old_model = \"nn.old\"\n",
    "new_model = \"nn1.4\"\n",
    "\n",
    "nnmodel_hps = NNModelHPs(\n",
    "    encoder_repeats = 2,\n",
    "    classes = len(covit.dataset.getLineages()),\n",
    "    d_model = 256,\n",
    "    d_val = 96,\n",
    "    d_key = 96,\n",
    "    d_ff = 1536,\n",
    "    heads = 18,\n",
    "    dropout_rate = 0.1\n",
    ")"
   ]
  },
  {
   "cell_type": "code",
   "execution_count": 19,
   "id": "6bc87461",
   "metadata": {
    "scrolled": true
   },
   "outputs": [],
   "source": [
    "if load_existing:\n",
    "    covit.loadNNModel(new_model)\n",
    "elif transfer_learning is False:\n",
    "    covit.addNNModel(name=new_model,\n",
    "                     nnmodel_hps=nnmodel_hps)\n",
    "else:\n",
    "    covit.loadNNModel(old_model)\n",
    "\n",
    "    covit.addNNModel(name=new_model,\n",
    "                     other=old_model)\n",
    "    \n",
    "    if deepen is True:\n",
    "        for _ in range(new_layers):\n",
    "            covit.deepenNN(name=new_model,\n",
    "                           trainable=True)\n",
    "        covit.makeTrainable(name=new_model)\n",
    "    elif change_pred_head is True:\n",
    "        covit.changeNumClasses(name=new_model,\n",
    "                               classes=len(covit.dataset.getLineages()))"
   ]
  },
  {
   "cell_type": "code",
   "execution_count": 20,
   "id": "50a79fe8",
   "metadata": {
    "scrolled": false
   },
   "outputs": [
    {
     "name": "stdout",
     "output_type": "stream",
     "text": [
      "4320/4320 [==============================] - 1309s 290ms/step - loss: 0.2681 - top1_accuracy: 0.9590 - top2_accuracy: 0.9857 - top5_accuracy: 0.9959\n"
     ]
    }
   ],
   "source": [
    "covit.train(new_model,\n",
    "            epochs=1,\n",
    "            batch_size=256,\n",
    "            mini_batch_size=64)"
   ]
  },
  {
   "cell_type": "code",
   "execution_count": null,
   "id": "876a3b8e",
   "metadata": {},
   "outputs": [],
   "source": [
    "models = [\n",
    "    new_model\n",
    "         ]\n",
    "\n",
    "for model in models:\n",
    "    covit.loadNNModel(model)\n",
    "    print(\"Model is {}\".format(model))\n",
    "    model_perf = covit.getResults(name=model).getPerf()\n",
    "    val_min_loss = min(model_perf[\"val_loss\"])\n",
    "    val_min_idx = model_perf[\"val_loss\"].index(val_min_loss)\n",
    "    val_top1_max_acc = model_perf[\"val_top1_accuracy\"][val_min_idx]\n",
    "    print(\"===> val top1 accuracy = {}\".format(val_top1_max_acc))\n",
    "\n",
    "perf = {}\n",
    "for model in models:\n",
    "    covit.loadNNModel(model)\n",
    "    model_perf = covit.getResults(name=model).getPerf()\n",
    "    for metric in model_perf:\n",
    "        if metric in perf:\n",
    "            perf[metric].extend(model_perf[metric])\n",
    "        else:\n",
    "            perf.update({metric: model_perf[metric]})"
   ]
  },
  {
   "cell_type": "code",
   "execution_count": null,
   "id": "14b16083",
   "metadata": {},
   "outputs": [],
   "source": [
    "import matplotlib.pyplot as plt\n",
    "\n",
    "plt.plot(perf[\"val_top1_accuracy\"], label=\"valid top1 accuracy\")\n",
    "plt.plot(perf[\"top1_accuracy\"], label=\"train top1 accuracy\")\n",
    "plt.plot(perf[\"val_top2_accuracy\"], label=\"valid top2 accuracy\")\n",
    "plt.plot(perf[\"top2_accuracy\"], label=\"train top2 accuracy\")\n",
    "plt.plot(perf[\"val_top5_accuracy\"], label=\"valid top5 accuracy\")\n",
    "plt.plot(perf[\"top5_accuracy\"], label=\"train top5 accuracy\")\n",
    "\n",
    "plt.legend()\n",
    "\n",
    "\n",
    "plt.xlabel(\"Epochs\")\n",
    "plt.ylabel(\"Accuracy\")\n",
    "plt.title(\"375Lins Accuracy vs. Epochs graph\")\n",
    "\n",
    "plt.savefig(\"acc.png\")\n",
    "\n",
    "val_min_loss = min(perf[\"val_loss\"])\n",
    "val_min_idx = perf[\"val_loss\"].index(val_min_loss)\n",
    "val_top1_max_acc = perf[\"val_top1_accuracy\"][val_min_idx]\n",
    "val_top2_max_acc = perf[\"val_top2_accuracy\"][val_min_idx]\n",
    "val_top5_max_acc = perf[\"val_top5_accuracy\"][val_min_idx]\n",
    "print(len(perf[\"val_top1_accuracy\"]))\n",
    "print(\"valid top1 accuracy {}\".format(val_top1_max_acc))\n",
    "print(\"valid top2 accuracy {}\".format(val_top2_max_acc))\n",
    "print(\"valid top5 accuracy {}\".format(val_top5_max_acc))\n",
    "\n"
   ]
  },
  {
   "cell_type": "code",
   "execution_count": null,
   "id": "890de86a",
   "metadata": {},
   "outputs": [],
   "source": [
    "plt.plot(perf[\"val_loss\"], label=\"valid loss\")\n",
    "plt.plot(perf[\"loss\"][1:], label=\"train loss\")\n",
    "\n",
    "plt.legend()\n",
    "\n",
    "plt.xlabel(\"Epochs\")\n",
    "plt.ylabel(\"Loss\")\n",
    "\n",
    "plt.title(\"189Lins Loss vs. Epochs graph\")\n",
    "\n",
    "plt.savefig(\"loss.png\")"
   ]
  },
  {
   "cell_type": "code",
   "execution_count": null,
   "id": "3aaf1379",
   "metadata": {},
   "outputs": [],
   "source": [
    "for model in models:\n",
    "    print(\"Model is {}\".format(model))\n",
    "    model_times = covit.getResults(name=model).getTimes()\n",
    "    num_epochs = 0\n",
    "    for model_num_epochs in model_times[\"epochs\"]:\n",
    "        num_epochs += model_num_epochs\n",
    "    batch_size = model_times[\"batch_size\"][0]\n",
    "    total_time = 0\n",
    "    for model_train_time in model_times[\"time\"]:\n",
    "        total_time += model_train_time\n",
    "    avg_time = total_time / num_epochs\n",
    "    print(\"===> batch size = {}\".format(batch_size))\n",
    "    print(\"===> number of epochs = {}\".format(num_epochs))\n",
    "    print(\"===> average train time per epoch = {:.2f}[min]\".format(avg_time / 60))"
   ]
  }
 ],
 "metadata": {
  "kernelspec": {
   "display_name": "Python 3 (ipykernel)",
   "language": "python",
   "name": "python3"
  },
  "language_info": {
   "codemirror_mode": {
    "name": "ipython",
    "version": 3
   },
   "file_extension": ".py",
   "mimetype": "text/x-python",
   "name": "python",
   "nbconvert_exporter": "python",
   "pygments_lexer": "ipython3",
   "version": "3.8.5"
  }
 },
 "nbformat": 4,
 "nbformat_minor": 5
}
