{
 "cells": [
  {
   "cell_type": "code",
   "execution_count": 1,
   "id": "1038db40",
   "metadata": {},
   "outputs": [],
   "source": [
    "from DataCollector import DataCollectorv2\n",
    "from Dataset import DatasetHPs\n",
    "from NNModel import NNModelHPs\n",
    "from covit import CovitProject"
   ]
  },
  {
   "cell_type": "code",
   "execution_count": 2,
   "id": "7d64e82b",
   "metadata": {
    "scrolled": false
   },
   "outputs": [
    {
     "name": "stdout",
     "output_type": "stream",
     "text": [
      "Building Data frame\n",
      "Done building Data frame\n",
      "Building remote dicts\n",
      "Done building remote dicts\n",
      "Building local dicts\n",
      "Done building local dicts\n"
     ]
    }
   ],
   "source": [
    "dc = DataCollectorv2()"
   ]
  },
  {
   "cell_type": "code",
   "execution_count": 3,
   "id": "130882ff",
   "metadata": {},
   "outputs": [],
   "source": [
    "covit = CovitProject(project_name=\"270LinsNew\",\n",
    "                     data_collector=dc)"
   ]
  },
  {
   "cell_type": "code",
   "execution_count": 4,
   "id": "584b6c2e",
   "metadata": {
    "scrolled": true
   },
   "outputs": [],
   "source": [
    "transfer_learning = False\n",
    "deepen = False\n",
    "new_layers = 2\n",
    "\n",
    "change_pred_head = False\n",
    "\n",
    "load_existing = True\n",
    "\n",
    "old_model = \"nn1.4\"\n",
    "new_model = \"nn1.6\"\n",
    "\n",
    "nnmodel_hps = NNModelHPs(\n",
    "    encoder_repeats = 2,\n",
    "    classes = len(covit.dataset.getLineages()),\n",
    "    d_model = 256,\n",
    "    d_val = 96,\n",
    "    d_key = 96,\n",
    "    d_ff = 1536,\n",
    "    heads = 18,\n",
    "    dropout_rate = 0.2\n",
    ")"
   ]
  },
  {
   "cell_type": "code",
   "execution_count": 5,
   "id": "6bc87461",
   "metadata": {
    "scrolled": true
   },
   "outputs": [
    {
     "name": "stderr",
     "output_type": "stream",
     "text": [
      "2022-10-16 15:34:41.711654: I tensorflow/core/platform/cpu_feature_guard.cc:193] This TensorFlow binary is optimized with oneAPI Deep Neural Network Library (oneDNN) to use the following CPU instructions in performance-critical operations:  AVX2 FMA\n",
      "To enable them in other operations, rebuild TensorFlow with the appropriate compiler flags.\n",
      "2022-10-16 15:34:42.387600: I tensorflow/core/common_runtime/gpu/gpu_device.cc:1532] Created device /job:localhost/replica:0/task:0/device:GPU:0 with 9213 MB memory:  -> device: 0, name: NVIDIA GeForce RTX 2080 Ti, pci bus id: 0000:01:00.0, compute capability: 7.5\n",
      "2022-10-16 15:34:55.035159: I tensorflow/stream_executor/cuda/cuda_dnn.cc:384] Loaded cuDNN version 8500\n"
     ]
    }
   ],
   "source": [
    "if load_existing:\n",
    "    covit.loadNNModel(new_model)\n",
    "    \n",
    "elif transfer_learning is False:\n",
    "    covit.addNNModel(name=new_model,\n",
    "                     nnmodel_hps=nnmodel_hps)\n",
    "else:\n",
    "    covit.loadNNModel(old_model)\n",
    "\n",
    "    covit.addNNModel(name=new_model,\n",
    "                     other=old_model)\n",
    "    \n",
    "    if deepen is True:\n",
    "        covit.deepenNN(name=new_model,\n",
    "                       num_layers=2,\n",
    "                       trainable=False)\n",
    "    if change_pred_head is True:\n",
    "        covit.changeNumClasses(name=new_model,\n",
    "                               classes=len(covit.dataset.getLineages()))"
   ]
  },
  {
   "cell_type": "code",
   "execution_count": 7,
   "id": "50a79fe8",
   "metadata": {
    "scrolled": true
   },
   "outputs": [
    {
     "name": "stdout",
     "output_type": "stream",
     "text": [
      "6\n",
      "linear_337\n",
      "weights: 2\n",
      "trainable_weights: 0\n",
      "non_trainable_weights: 2\n",
      "~~~~~~~~~~~~~~~~\n",
      "encoder_block_6\n",
      "weights: 118\n",
      "trainable_weights: 0\n",
      "non_trainable_weights: 118\n",
      "~~~~~~~~~~~~~~~~\n",
      "encoder_block_7\n",
      "weights: 118\n",
      "trainable_weights: 118\n",
      "non_trainable_weights: 0\n",
      "~~~~~~~~~~~~~~~~\n",
      "encoder_block_8\n",
      "weights: 118\n",
      "trainable_weights: 118\n",
      "non_trainable_weights: 0\n",
      "~~~~~~~~~~~~~~~~\n",
      "encoder_block_9\n",
      "weights: 118\n",
      "trainable_weights: 118\n",
      "non_trainable_weights: 0\n",
      "~~~~~~~~~~~~~~~~\n",
      "encoder_block_10\n",
      "weights: 118\n",
      "trainable_weights: 118\n",
      "non_trainable_weights: 0\n",
      "~~~~~~~~~~~~~~~~\n",
      "encoder_block_11\n",
      "weights: 118\n",
      "trainable_weights: 118\n",
      "non_trainable_weights: 0\n",
      "~~~~~~~~~~~~~~~~\n",
      "layer_normalization_25\n",
      "weights: 2\n",
      "trainable_weights: 2\n",
      "non_trainable_weights: 0\n",
      "~~~~~~~~~~~~~~~~\n",
      "predictor_block_1\n",
      "weights: 2\n",
      "trainable_weights: 2\n",
      "non_trainable_weights: 0\n",
      "~~~~~~~~~~~~~~~~\n",
      "Epoch 1/20\n"
     ]
    },
    {
     "name": "stderr",
     "output_type": "stream",
     "text": [
      "2022-10-16 23:11:38.720318: I tensorflow/core/kernels/data/shuffle_dataset_op.cc:390] Filling up shuffle buffer (this may take a while): 4656 of 5120\n",
      "2022-10-16 23:11:39.212582: I tensorflow/core/kernels/data/shuffle_dataset_op.cc:415] Shuffle buffer filled.\n"
     ]
    },
    {
     "name": "stdout",
     "output_type": "stream",
     "text": [
      "3761/3761 [==============================] - ETA: 0s - loss: 0.3364 - top1_accuracy: 0.9052 - top2_accuracy: 0.9595 - top5_accuracy: 0.9860INFO:tensorflow:Assets written to: ../Projects/270LinsNew/NNModels/nn1.6/nn/assets\n"
     ]
    },
    {
     "name": "stderr",
     "output_type": "stream",
     "text": [
      "INFO:tensorflow:Assets written to: ../Projects/270LinsNew/NNModels/nn1.6/nn/assets\n"
     ]
    },
    {
     "name": "stdout",
     "output_type": "stream",
     "text": [
      "3761/3761 [==============================] - 1599s 402ms/step - loss: 0.3364 - top1_accuracy: 0.9052 - top2_accuracy: 0.9595 - top5_accuracy: 0.9860 - val_loss: 0.5565 - val_top1_accuracy: 0.8726 - val_top2_accuracy: 0.9357 - val_top5_accuracy: 0.9787\n",
      "Epoch 2/20\n",
      "3761/3761 [==============================] - ETA: 0s - loss: 0.3148 - top1_accuracy: 0.9116 - top2_accuracy: 0.9625 - top5_accuracy: 0.9878INFO:tensorflow:Assets written to: ../Projects/270LinsNew/NNModels/nn1.6/nn/assets\n"
     ]
    },
    {
     "name": "stderr",
     "output_type": "stream",
     "text": [
      "INFO:tensorflow:Assets written to: ../Projects/270LinsNew/NNModels/nn1.6/nn/assets\n"
     ]
    },
    {
     "name": "stdout",
     "output_type": "stream",
     "text": [
      "3761/3761 [==============================] - 1512s 402ms/step - loss: 0.3148 - top1_accuracy: 0.9116 - top2_accuracy: 0.9625 - top5_accuracy: 0.9878 - val_loss: 0.4120 - val_top1_accuracy: 0.9077 - val_top2_accuracy: 0.9576 - val_top5_accuracy: 0.9828\n",
      "Epoch 3/20\n",
      "3761/3761 [==============================] - ETA: 0s - loss: 0.2819 - top1_accuracy: 0.9197 - top2_accuracy: 0.9674 - top5_accuracy: 0.9902INFO:tensorflow:Assets written to: ../Projects/270LinsNew/NNModels/nn1.6/nn/assets\n"
     ]
    },
    {
     "name": "stderr",
     "output_type": "stream",
     "text": [
      "INFO:tensorflow:Assets written to: ../Projects/270LinsNew/NNModels/nn1.6/nn/assets\n"
     ]
    },
    {
     "name": "stdout",
     "output_type": "stream",
     "text": [
      "3761/3761 [==============================] - 1514s 403ms/step - loss: 0.2819 - top1_accuracy: 0.9197 - top2_accuracy: 0.9674 - top5_accuracy: 0.9902 - val_loss: 0.4045 - val_top1_accuracy: 0.9106 - val_top2_accuracy: 0.9589 - val_top5_accuracy: 0.9830\n",
      "Epoch 4/20\n",
      "3761/3761 [==============================] - ETA: 0s - loss: 0.2651 - top1_accuracy: 0.9242 - top2_accuracy: 0.9714 - top5_accuracy: 0.9915INFO:tensorflow:Assets written to: ../Projects/270LinsNew/NNModels/nn1.6/nn/assets\n"
     ]
    },
    {
     "name": "stderr",
     "output_type": "stream",
     "text": [
      "INFO:tensorflow:Assets written to: ../Projects/270LinsNew/NNModels/nn1.6/nn/assets\n"
     ]
    },
    {
     "name": "stdout",
     "output_type": "stream",
     "text": [
      "3761/3761 [==============================] - 1519s 404ms/step - loss: 0.2651 - top1_accuracy: 0.9242 - top2_accuracy: 0.9714 - top5_accuracy: 0.9915 - val_loss: 0.3788 - val_top1_accuracy: 0.9143 - val_top2_accuracy: 0.9626 - val_top5_accuracy: 0.9851\n",
      "Epoch 5/20\n",
      "3761/3761 [==============================] - 1489s 396ms/step - loss: 0.2541 - top1_accuracy: 0.9267 - top2_accuracy: 0.9724 - top5_accuracy: 0.9922 - val_loss: 0.3870 - val_top1_accuracy: 0.9124 - val_top2_accuracy: 0.9621 - val_top5_accuracy: 0.9845\n",
      "Epoch 6/20\n",
      "3761/3761 [==============================] - ETA: 0s - loss: 0.2450 - top1_accuracy: 0.9283 - top2_accuracy: 0.9741 - top5_accuracy: 0.9928INFO:tensorflow:Assets written to: ../Projects/270LinsNew/NNModels/nn1.6/nn/assets\n"
     ]
    },
    {
     "name": "stderr",
     "output_type": "stream",
     "text": [
      "INFO:tensorflow:Assets written to: ../Projects/270LinsNew/NNModels/nn1.6/nn/assets\n"
     ]
    },
    {
     "name": "stdout",
     "output_type": "stream",
     "text": [
      "3761/3761 [==============================] - 1525s 405ms/step - loss: 0.2450 - top1_accuracy: 0.9283 - top2_accuracy: 0.9741 - top5_accuracy: 0.9928 - val_loss: 0.3724 - val_top1_accuracy: 0.9148 - val_top2_accuracy: 0.9621 - val_top5_accuracy: 0.9856\n",
      "Epoch 7/20\n",
      "3761/3761 [==============================] - ETA: 0s - loss: 0.2405 - top1_accuracy: 0.9302 - top2_accuracy: 0.9749 - top5_accuracy: 0.9932INFO:tensorflow:Assets written to: ../Projects/270LinsNew/NNModels/nn1.6/nn/assets\n"
     ]
    },
    {
     "name": "stderr",
     "output_type": "stream",
     "text": [
      "INFO:tensorflow:Assets written to: ../Projects/270LinsNew/NNModels/nn1.6/nn/assets\n"
     ]
    },
    {
     "name": "stdout",
     "output_type": "stream",
     "text": [
      "3761/3761 [==============================] - 1530s 407ms/step - loss: 0.2405 - top1_accuracy: 0.9302 - top2_accuracy: 0.9749 - top5_accuracy: 0.9932 - val_loss: 0.3646 - val_top1_accuracy: 0.9186 - val_top2_accuracy: 0.9646 - val_top5_accuracy: 0.9856\n",
      "Epoch 8/20\n",
      "3761/3761 [==============================] - ETA: 0s - loss: 0.2372 - top1_accuracy: 0.9308 - top2_accuracy: 0.9751 - top5_accuracy: 0.9933INFO:tensorflow:Assets written to: ../Projects/270LinsNew/NNModels/nn1.6/nn/assets\n"
     ]
    },
    {
     "name": "stderr",
     "output_type": "stream",
     "text": [
      "INFO:tensorflow:Assets written to: ../Projects/270LinsNew/NNModels/nn1.6/nn/assets\n"
     ]
    },
    {
     "name": "stdout",
     "output_type": "stream",
     "text": [
      "3761/3761 [==============================] - 1525s 405ms/step - loss: 0.2372 - top1_accuracy: 0.9308 - top2_accuracy: 0.9751 - top5_accuracy: 0.9933 - val_loss: 0.3638 - val_top1_accuracy: 0.9204 - val_top2_accuracy: 0.9644 - val_top5_accuracy: 0.9855\n",
      "Epoch 9/20\n",
      "3761/3761 [==============================] - 1503s 400ms/step - loss: 0.2320 - top1_accuracy: 0.9318 - top2_accuracy: 0.9757 - top5_accuracy: 0.9937 - val_loss: 0.3688 - val_top1_accuracy: 0.9149 - val_top2_accuracy: 0.9626 - val_top5_accuracy: 0.9849\n",
      "Epoch 10/20\n",
      "3761/3761 [==============================] - ETA: 0s - loss: 0.2294 - top1_accuracy: 0.9325 - top2_accuracy: 0.9764 - top5_accuracy: 0.9939INFO:tensorflow:Assets written to: ../Projects/270LinsNew/NNModels/nn1.6/nn/assets\n"
     ]
    },
    {
     "name": "stderr",
     "output_type": "stream",
     "text": [
      "INFO:tensorflow:Assets written to: ../Projects/270LinsNew/NNModels/nn1.6/nn/assets\n"
     ]
    },
    {
     "name": "stdout",
     "output_type": "stream",
     "text": [
      "3761/3761 [==============================] - 1527s 406ms/step - loss: 0.2294 - top1_accuracy: 0.9325 - top2_accuracy: 0.9764 - top5_accuracy: 0.9939 - val_loss: 0.3632 - val_top1_accuracy: 0.9170 - val_top2_accuracy: 0.9640 - val_top5_accuracy: 0.9859\n",
      "Epoch 11/20\n",
      "3761/3761 [==============================] - ETA: 0s - loss: 0.2282 - top1_accuracy: 0.9327 - top2_accuracy: 0.9763 - top5_accuracy: 0.9939INFO:tensorflow:Assets written to: ../Projects/270LinsNew/NNModels/nn1.6/nn/assets\n"
     ]
    },
    {
     "name": "stderr",
     "output_type": "stream",
     "text": [
      "INFO:tensorflow:Assets written to: ../Projects/270LinsNew/NNModels/nn1.6/nn/assets\n"
     ]
    },
    {
     "name": "stdout",
     "output_type": "stream",
     "text": [
      "3761/3761 [==============================] - 1531s 407ms/step - loss: 0.2282 - top1_accuracy: 0.9327 - top2_accuracy: 0.9763 - top5_accuracy: 0.9939 - val_loss: 0.3610 - val_top1_accuracy: 0.9206 - val_top2_accuracy: 0.9647 - val_top5_accuracy: 0.9856\n",
      "Epoch 12/20\n",
      "3761/3761 [==============================] - 1499s 399ms/step - loss: 0.2243 - top1_accuracy: 0.9331 - top2_accuracy: 0.9771 - top5_accuracy: 0.9944 - val_loss: 0.3662 - val_top1_accuracy: 0.9169 - val_top2_accuracy: 0.9639 - val_top5_accuracy: 0.9852\n",
      "Epoch 13/20\n",
      "3761/3761 [==============================] - 1496s 398ms/step - loss: 0.2230 - top1_accuracy: 0.9339 - top2_accuracy: 0.9773 - top5_accuracy: 0.9943 - val_loss: 0.3650 - val_top1_accuracy: 0.9189 - val_top2_accuracy: 0.9661 - val_top5_accuracy: 0.9849\n",
      "Epoch 14/20\n",
      "3761/3761 [==============================] - 1501s 399ms/step - loss: 0.2214 - top1_accuracy: 0.9340 - top2_accuracy: 0.9775 - top5_accuracy: 0.9944 - val_loss: 0.3631 - val_top1_accuracy: 0.9197 - val_top2_accuracy: 0.9667 - val_top5_accuracy: 0.9850\n",
      "Epoch 15/20\n",
      "3761/3761 [==============================] - ETA: 0s - loss: 0.2191 - top1_accuracy: 0.9347 - top2_accuracy: 0.9778 - top5_accuracy: 0.9944INFO:tensorflow:Assets written to: ../Projects/270LinsNew/NNModels/nn1.6/nn/assets\n"
     ]
    },
    {
     "name": "stderr",
     "output_type": "stream",
     "text": [
      "INFO:tensorflow:Assets written to: ../Projects/270LinsNew/NNModels/nn1.6/nn/assets\n"
     ]
    },
    {
     "name": "stdout",
     "output_type": "stream",
     "text": [
      "3761/3761 [==============================] - 1530s 407ms/step - loss: 0.2191 - top1_accuracy: 0.9347 - top2_accuracy: 0.9778 - top5_accuracy: 0.9944 - val_loss: 0.3589 - val_top1_accuracy: 0.9207 - val_top2_accuracy: 0.9657 - val_top5_accuracy: 0.9849\n",
      "Epoch 16/20\n",
      "3761/3761 [==============================] - 1504s 400ms/step - loss: 0.2169 - top1_accuracy: 0.9354 - top2_accuracy: 0.9781 - top5_accuracy: 0.9947 - val_loss: 0.3617 - val_top1_accuracy: 0.9198 - val_top2_accuracy: 0.9650 - val_top5_accuracy: 0.9846\n",
      "Epoch 17/20\n",
      "3761/3761 [==============================] - ETA: 0s - loss: 0.2164 - top1_accuracy: 0.9356 - top2_accuracy: 0.9780 - top5_accuracy: 0.9946INFO:tensorflow:Assets written to: ../Projects/270LinsNew/NNModels/nn1.6/nn/assets\n"
     ]
    },
    {
     "name": "stderr",
     "output_type": "stream",
     "text": [
      "INFO:tensorflow:Assets written to: ../Projects/270LinsNew/NNModels/nn1.6/nn/assets\n"
     ]
    },
    {
     "name": "stdout",
     "output_type": "stream",
     "text": [
      "3761/3761 [==============================] - 1532s 407ms/step - loss: 0.2164 - top1_accuracy: 0.9356 - top2_accuracy: 0.9780 - top5_accuracy: 0.9946 - val_loss: 0.3529 - val_top1_accuracy: 0.9236 - val_top2_accuracy: 0.9666 - val_top5_accuracy: 0.9856\n",
      "Epoch 18/20\n",
      "3761/3761 [==============================] - 1502s 399ms/step - loss: 0.2150 - top1_accuracy: 0.9357 - top2_accuracy: 0.9783 - top5_accuracy: 0.9948 - val_loss: 0.3624 - val_top1_accuracy: 0.9193 - val_top2_accuracy: 0.9654 - val_top5_accuracy: 0.9845\n",
      "Epoch 19/20\n",
      "3761/3761 [==============================] - 1502s 399ms/step - loss: 0.2126 - top1_accuracy: 0.9363 - top2_accuracy: 0.9788 - top5_accuracy: 0.9950 - val_loss: 0.3605 - val_top1_accuracy: 0.9223 - val_top2_accuracy: 0.9652 - val_top5_accuracy: 0.9856\n",
      "Epoch 20/20\n",
      "3761/3761 [==============================] - 1496s 398ms/step - loss: 0.2126 - top1_accuracy: 0.9365 - top2_accuracy: 0.9786 - top5_accuracy: 0.9950 - val_loss: 0.3609 - val_top1_accuracy: 0.9214 - val_top2_accuracy: 0.9658 - val_top5_accuracy: 0.9856\n"
     ]
    }
   ],
   "source": [
    "covit.makeTrainable(name=new_model,\n",
    "                    trainable_encoders=5)\n",
    "max_mask_rate = 0.05\n",
    "print(covit.name_nnmodel_map[new_model].hps.encoder_repeats)\n",
    "for layer in covit.name_nnmodel_map[new_model].nn.layers:\n",
    "    print(layer.name)\n",
    "    print(\"weights:\", len(layer.weights))\n",
    "    print(\"trainable_weights:\", len(layer.trainable_weights))\n",
    "    print(\"non_trainable_weights:\", len(layer.non_trainable_weights))\n",
    "    print(\"~~~~~~~~~~~~~~~~\")\n",
    "covit.train(new_model,\n",
    "            epochs=20,\n",
    "            batch_size=4096,\n",
    "            mini_batch_size=64,\n",
    "            max_mask_rate_train=max_mask_rate,\n",
    "            shuffle_buffer_size=4096+1024\n",
    "            )"
   ]
  },
  {
   "cell_type": "code",
   "execution_count": null,
   "id": "876a3b8e",
   "metadata": {},
   "outputs": [
    {
     "name": "stdout",
     "output_type": "stream",
     "text": [
      "6\n",
      "linear_337\n",
      "weights: 2\n",
      "trainable_weights: 0\n",
      "non_trainable_weights: 2\n",
      "~~~~~~~~~~~~~~~~\n",
      "encoder_block_6\n",
      "weights: 118\n",
      "trainable_weights: 118\n",
      "non_trainable_weights: 0\n",
      "~~~~~~~~~~~~~~~~\n",
      "encoder_block_7\n",
      "weights: 118\n",
      "trainable_weights: 118\n",
      "non_trainable_weights: 0\n",
      "~~~~~~~~~~~~~~~~\n",
      "encoder_block_8\n",
      "weights: 118\n",
      "trainable_weights: 118\n",
      "non_trainable_weights: 0\n",
      "~~~~~~~~~~~~~~~~\n",
      "encoder_block_9\n",
      "weights: 118\n",
      "trainable_weights: 118\n",
      "non_trainable_weights: 0\n",
      "~~~~~~~~~~~~~~~~\n",
      "encoder_block_10\n",
      "weights: 118\n",
      "trainable_weights: 118\n",
      "non_trainable_weights: 0\n",
      "~~~~~~~~~~~~~~~~\n",
      "encoder_block_11\n",
      "weights: 118\n",
      "trainable_weights: 118\n",
      "non_trainable_weights: 0\n",
      "~~~~~~~~~~~~~~~~\n",
      "layer_normalization_25\n",
      "weights: 2\n",
      "trainable_weights: 2\n",
      "non_trainable_weights: 0\n",
      "~~~~~~~~~~~~~~~~\n",
      "predictor_block_1\n",
      "weights: 2\n",
      "trainable_weights: 2\n",
      "non_trainable_weights: 0\n",
      "~~~~~~~~~~~~~~~~\n",
      "Epoch 1/60\n",
      "3761/3761 [==============================] - ETA: 0s - loss: 1.9529 - top1_accuracy: 0.5511 - top2_accuracy: 0.6623 - top5_accuracy: 0.7725INFO:tensorflow:Assets written to: ../Projects/270LinsNew/NNModels/nn1.6/nn/assets\n"
     ]
    },
    {
     "name": "stderr",
     "output_type": "stream",
     "text": [
      "INFO:tensorflow:Assets written to: ../Projects/270LinsNew/NNModels/nn1.6/nn/assets\n"
     ]
    },
    {
     "name": "stdout",
     "output_type": "stream",
     "text": [
      "3761/3761 [==============================] - 1796s 454ms/step - loss: 1.9529 - top1_accuracy: 0.5511 - top2_accuracy: 0.6623 - top5_accuracy: 0.7725 - val_loss: 0.9892 - val_top1_accuracy: 0.7522 - val_top2_accuracy: 0.8614 - val_top5_accuracy: 0.9309\n",
      "Epoch 2/60\n",
      "3761/3761 [==============================] - ETA: 0s - loss: 0.6971 - top1_accuracy: 0.8023 - top2_accuracy: 0.8882 - top5_accuracy: 0.9513INFO:tensorflow:Assets written to: ../Projects/270LinsNew/NNModels/nn1.6/nn/assets\n"
     ]
    },
    {
     "name": "stderr",
     "output_type": "stream",
     "text": [
      "INFO:tensorflow:Assets written to: ../Projects/270LinsNew/NNModels/nn1.6/nn/assets\n"
     ]
    },
    {
     "name": "stdout",
     "output_type": "stream",
     "text": [
      "3761/3761 [==============================] - 1711s 455ms/step - loss: 0.6971 - top1_accuracy: 0.8023 - top2_accuracy: 0.8882 - top5_accuracy: 0.9513 - val_loss: 0.6318 - val_top1_accuracy: 0.8458 - val_top2_accuracy: 0.9183 - val_top5_accuracy: 0.9600\n",
      "Epoch 3/60\n",
      "3761/3761 [==============================] - ETA: 0s - loss: 0.5385 - top1_accuracy: 0.8480 - top2_accuracy: 0.9200 - top5_accuracy: 0.9691INFO:tensorflow:Assets written to: ../Projects/270LinsNew/NNModels/nn1.6/nn/assets\n"
     ]
    },
    {
     "name": "stderr",
     "output_type": "stream",
     "text": [
      "INFO:tensorflow:Assets written to: ../Projects/270LinsNew/NNModels/nn1.6/nn/assets\n"
     ]
    },
    {
     "name": "stdout",
     "output_type": "stream",
     "text": [
      "3761/3761 [==============================] - 1719s 457ms/step - loss: 0.5385 - top1_accuracy: 0.8480 - top2_accuracy: 0.9200 - top5_accuracy: 0.9691 - val_loss: 0.5594 - val_top1_accuracy: 0.8612 - val_top2_accuracy: 0.9278 - val_top5_accuracy: 0.9690\n",
      "Epoch 4/60\n",
      "3761/3761 [==============================] - ETA: 0s - loss: 0.4670 - top1_accuracy: 0.8676 - top2_accuracy: 0.9320 - top5_accuracy: 0.9746INFO:tensorflow:Assets written to: ../Projects/270LinsNew/NNModels/nn1.6/nn/assets\n"
     ]
    },
    {
     "name": "stderr",
     "output_type": "stream",
     "text": [
      "INFO:tensorflow:Assets written to: ../Projects/270LinsNew/NNModels/nn1.6/nn/assets\n"
     ]
    },
    {
     "name": "stdout",
     "output_type": "stream",
     "text": [
      "3761/3761 [==============================] - 1721s 457ms/step - loss: 0.4670 - top1_accuracy: 0.8676 - top2_accuracy: 0.9320 - top5_accuracy: 0.9746 - val_loss: 0.5046 - val_top1_accuracy: 0.8772 - val_top2_accuracy: 0.9386 - val_top5_accuracy: 0.9743\n",
      "Epoch 5/60\n",
      "3761/3761 [==============================] - ETA: 0s - loss: 0.4193 - top1_accuracy: 0.8803 - top2_accuracy: 0.9412 - top5_accuracy: 0.9787INFO:tensorflow:Assets written to: ../Projects/270LinsNew/NNModels/nn1.6/nn/assets\n"
     ]
    },
    {
     "name": "stderr",
     "output_type": "stream",
     "text": [
      "INFO:tensorflow:Assets written to: ../Projects/270LinsNew/NNModels/nn1.6/nn/assets\n"
     ]
    },
    {
     "name": "stdout",
     "output_type": "stream",
     "text": [
      "3761/3761 [==============================] - 1725s 459ms/step - loss: 0.4193 - top1_accuracy: 0.8803 - top2_accuracy: 0.9412 - top5_accuracy: 0.9787 - val_loss: 0.4709 - val_top1_accuracy: 0.8830 - val_top2_accuracy: 0.9434 - val_top5_accuracy: 0.9758\n",
      "Epoch 6/60\n",
      "3761/3761 [==============================] - ETA: 0s - loss: 0.3841 - top1_accuracy: 0.8908 - top2_accuracy: 0.9480 - top5_accuracy: 0.9820INFO:tensorflow:Assets written to: ../Projects/270LinsNew/NNModels/nn1.6/nn/assets\n"
     ]
    },
    {
     "name": "stderr",
     "output_type": "stream",
     "text": [
      "INFO:tensorflow:Assets written to: ../Projects/270LinsNew/NNModels/nn1.6/nn/assets\n"
     ]
    },
    {
     "name": "stdout",
     "output_type": "stream",
     "text": [
      "3761/3761 [==============================] - 1727s 459ms/step - loss: 0.3841 - top1_accuracy: 0.8908 - top2_accuracy: 0.9480 - top5_accuracy: 0.9820 - val_loss: 0.4359 - val_top1_accuracy: 0.8955 - val_top2_accuracy: 0.9498 - val_top5_accuracy: 0.9789\n",
      "Epoch 7/60\n",
      "3761/3761 [==============================] - ETA: 0s - loss: 0.3593 - top1_accuracy: 0.8981 - top2_accuracy: 0.9534 - top5_accuracy: 0.9842INFO:tensorflow:Assets written to: ../Projects/270LinsNew/NNModels/nn1.6/nn/assets\n"
     ]
    },
    {
     "name": "stderr",
     "output_type": "stream",
     "text": [
      "INFO:tensorflow:Assets written to: ../Projects/270LinsNew/NNModels/nn1.6/nn/assets\n"
     ]
    },
    {
     "name": "stdout",
     "output_type": "stream",
     "text": [
      "3761/3761 [==============================] - 1728s 459ms/step - loss: 0.3593 - top1_accuracy: 0.8981 - top2_accuracy: 0.9534 - top5_accuracy: 0.9842 - val_loss: 0.4262 - val_top1_accuracy: 0.9010 - val_top2_accuracy: 0.9526 - val_top5_accuracy: 0.9808\n",
      "Epoch 8/60\n",
      "3761/3761 [==============================] - ETA: 0s - loss: 0.3365 - top1_accuracy: 0.9052 - top2_accuracy: 0.9581 - top5_accuracy: 0.9860INFO:tensorflow:Assets written to: ../Projects/270LinsNew/NNModels/nn1.6/nn/assets\n"
     ]
    },
    {
     "name": "stderr",
     "output_type": "stream",
     "text": [
      "INFO:tensorflow:Assets written to: ../Projects/270LinsNew/NNModels/nn1.6/nn/assets\n"
     ]
    },
    {
     "name": "stdout",
     "output_type": "stream",
     "text": [
      "3761/3761 [==============================] - 20968s 6s/step - loss: 0.3365 - top1_accuracy: 0.9052 - top2_accuracy: 0.9581 - top5_accuracy: 0.9860 - val_loss: 0.4180 - val_top1_accuracy: 0.9038 - val_top2_accuracy: 0.9547 - val_top5_accuracy: 0.9814\n",
      "Epoch 9/60\n",
      " 606/3761 [===>..........................] - ETA: 3:28:15 - loss: 0.3363 - top1_accuracy: 0.9058 - top2_accuracy: 0.9586 - top5_accuracy: 0.9874"
     ]
    }
   ],
   "source": [
    "# covit.makeTrainable(new_model)\n",
    "# max_mask_rate = 0.05\n",
    "# covit.train(new_model,\n",
    "#             epochs=50,\n",
    "#             batch_size=4096,\n",
    "#             mini_batch_size=128,\n",
    "#             max_mask_rate=max_mask_rate)\n",
    "\n",
    "# mask_rate = 0.0\n",
    "# epsilon = 0.00000000001\n",
    "# covit.evaluate(name=new_model,\n",
    "#                batch_size=64,\n",
    "#                min_mask_rate=mask_rate,\n",
    "#                max_mask_rate=mask_rate+epsilon)\n",
    "\n",
    "# models = [\n",
    "#     old_model\n",
    "#          ]\n",
    "\n",
    "# for model in models:\n",
    "#     covit.loadNNModel(model)\n",
    "# #    print(\"Model is {}\".format(model))\n",
    "#     model_perf = covit.getResults(name=model).getPerf()\n",
    "#     val_min_loss = min(model_perf[\"val_loss\"])\n",
    "#     val_min_idx = model_perf[\"val_loss\"].index(val_min_loss)\n",
    "#     val_top1_max_acc = model_perf[\"val_top1_accuracy\"][val_min_idx]\n",
    "# #    print(\"===> val top1 accuracy = {}\".format(val_top1_max_acc))\n",
    "\n",
    "# perf = {}\n",
    "# for model in models:\n",
    "#     covit.loadNNModel(model)\n",
    "#     model_perf = covit.getResults(name=model).getPerf()\n",
    "#     for metric in model_perf:\n",
    "#         if metric in perf:\n",
    "#             perf[metric].extend(model_perf[metric])\n",
    "#         else:\n",
    "#             perf.update({metric: model_perf[metric]})#\n",
    "\n",
    "covit.makeTrainable(name=new_model,\n",
    "                    trainable_encoders=6)\n",
    "max_mask_rate = 0.05\n",
    "print(covit.name_nnmodel_map[new_model].hps.encoder_repeats)\n",
    "for layer in covit.name_nnmodel_map[new_model].nn.layers:\n",
    "    print(layer.name)\n",
    "    print(\"weights:\", len(layer.weights))\n",
    "    print(\"trainable_weights:\", len(layer.trainable_weights))\n",
    "    print(\"non_trainable_weights:\", len(layer.non_trainable_weights))\n",
    "    print(\"~~~~~~~~~~~~~~~~\")\n",
    "covit.train(new_model,\n",
    "            epochs=60,\n",
    "            batch_size=4096,\n",
    "            mini_batch_size=64,\n",
    "            max_mask_rate_train=max_mask_rate,\n",
    "            shuffle_buffer_size=4096+1024\n",
    "            )"
   ]
  },
  {
   "cell_type": "code",
   "execution_count": null,
   "id": "14b16083",
   "metadata": {},
   "outputs": [],
   "source": [
    "'''\n",
    "mask rate vs. accuracy\n",
    "0%  - 86.90%\n",
    "10% - 85.36%\n",
    "20% - 83.94%\n",
    "30% - 82.17%\n",
    "40% - 79.29%\n",
    "50% - 76.4%\n",
    "'''\n",
    "import matplotlib.pyplot as plt\n",
    "\n",
    "start = 0\n",
    "\n",
    "plt.plot(perf[\"val_top1_accuracy\"][start:], label=\"valid top1 accuracy\")\n",
    "plt.plot(perf[\"top1_accuracy\"][start:], label=\"train top1 accuracy\")\n",
    "plt.plot(perf[\"val_top2_accuracy\"][start:], label=\"valid top2 accuracy\")\n",
    "plt.plot(perf[\"top2_accuracy\"][start:], label=\"train top2 accuracy\")\n",
    "plt.plot(perf[\"val_top5_accuracy\"][start:], label=\"valid top5 accuracy\")\n",
    "plt.plot(perf[\"top5_accuracy\"][start:], label=\"train top5 accuracy\")\n",
    "\n",
    "plt.legend()\n",
    "\n",
    "\n",
    "plt.xlabel(\"Epochs\")\n",
    "plt.ylabel(\"Accuracy\")\n",
    "plt.title(\"375Lins Accuracy vs. Epochs graph\")\n",
    "\n",
    "plt.savefig(\"acc.png\")\n",
    "\n",
    "val_min_loss = min(perf[\"val_loss\"])\n",
    "val_min_idx = perf[\"val_loss\"].index(val_min_loss)\n",
    "val_top1_max_acc = perf[\"val_top1_accuracy\"][val_min_idx]\n",
    "val_top2_max_acc = perf[\"val_top2_accuracy\"][val_min_idx]\n",
    "val_top5_max_acc = perf[\"val_top5_accuracy\"][val_min_idx]\n",
    "print(len(perf[\"val_top1_accuracy\"]))\n",
    "print(\"valid top1 accuracy {}\".format(val_top1_max_acc))\n",
    "print(\"valid top2 accuracy {}\".format(val_top2_max_acc))\n",
    "print(\"valid top5 accuracy {}\".format(val_top5_max_acc))\n",
    "\n"
   ]
  },
  {
   "cell_type": "code",
   "execution_count": null,
   "id": "890de86a",
   "metadata": {},
   "outputs": [],
   "source": [
    "start = 20\n",
    "\n",
    "plt.plot(perf[\"val_loss\"][start:], label=\"valid loss\")\n",
    "plt.plot(perf[\"loss\"][start:], label=\"train loss\")\n",
    "\n",
    "plt.legend()\n",
    "\n",
    "plt.xlabel(\"Epochs\")\n",
    "plt.ylabel(\"Loss\")\n",
    "\n",
    "plt.title(\"189Lins Loss vs. Epochs graph\")\n",
    "\n",
    "plt.savefig(\"loss.png\")"
   ]
  },
  {
   "cell_type": "code",
   "execution_count": null,
   "id": "3aaf1379",
   "metadata": {},
   "outputs": [],
   "source": [
    "for model in models:\n",
    "    print(\"Model is {}\".format(model))\n",
    "    model_times = covit.getResults(name=model).getTimes()\n",
    "    num_epochs = 0\n",
    "    for model_num_epochs in model_times[\"epochs\"]:\n",
    "        num_epochs += model_num_epochs\n",
    "    batch_size = model_times[\"batch_size\"][0]\n",
    "    total_time = 0\n",
    "    for model_train_time in model_times[\"time\"]:\n",
    "        total_time += model_train_time\n",
    "    avg_time = total_time / num_epochs\n",
    "    print(\"===> batch size = {}\".format(batch_size))\n",
    "    print(\"===> number of epochs = {}\".format(num_epochs))\n",
    "    print(\"===> average train time per epoch = {:.2f}[min]\".format(avg_time / 60))"
   ]
  }
 ],
 "metadata": {
  "kernelspec": {
   "display_name": "Python 3 (ipykernel)",
   "language": "python",
   "name": "python3"
  },
  "language_info": {
   "codemirror_mode": {
    "name": "ipython",
    "version": 3
   },
   "file_extension": ".py",
   "mimetype": "text/x-python",
   "name": "python",
   "nbconvert_exporter": "python",
   "pygments_lexer": "ipython3",
   "version": "3.8.10"
  }
 },
 "nbformat": 4,
 "nbformat_minor": 5
}
